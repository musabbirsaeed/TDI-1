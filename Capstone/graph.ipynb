{
 "cells": [
  {
   "cell_type": "code",
   "execution_count": 1,
   "metadata": {},
   "outputs": [],
   "source": [
    "%matplotlib inline\n",
    "import matplotlib\n",
    "import seaborn as sns\n",
    "sns.set()\n",
    "matplotlib.rcParams['figure.dpi'] = 144\n",
    "from datetime import datetime\n",
    "import dill"
   ]
  },
  {
   "cell_type": "code",
   "execution_count": 2,
   "metadata": {},
   "outputs": [],
   "source": [
    "from static_grader import grader"
   ]
  },
  {
   "cell_type": "markdown",
   "metadata": {},
   "source": [
    "# The New York Social Graph\n"
   ]
  },
  {
   "cell_type": "markdown",
   "metadata": {},
   "source": [
    "[New York Social Diary](http://www.newyorksocialdiary.com/) provides a\n",
    "fascinating lens onto New York's socially well-to-do.  The data forms a natural social graph for New York's social elite.  Take a look at this page of a recent [run-of-the-mill holiday party](http://www.newyorksocialdiary.com/party-pictures/2014/holiday-dinners-and-doers).\n",
    "\n",
    "Besides the brand-name celebrities, you will notice the photos have carefully annotated captions labeling those that appear in the photos.  We can think of this as implicitly implying a social graph: there is a connection between two individuals if they appear in a picture together.\n",
    "\n",
    "For this project, we will assemble the social graph from photo captions for parties dated December 1, 2014, and before.  Using this graph, we can make guesses at the most popular socialites, the most influential people, and the most tightly coupled pairs.\n",
    "\n",
    "We will attack the project in three phases:\n",
    "1. Get a list of all the photo pages to be analyzed.\n",
    "2. Parse all of the captions on a sample page.\n",
    "3. Parse all of the captions on all pages, and assemble the graph."
   ]
  },
  {
   "cell_type": "markdown",
   "metadata": {},
   "source": [
    "## Phase One\n"
   ]
  },
  {
   "cell_type": "markdown",
   "metadata": {},
   "source": [
    "The first step is to crawl the data.  We want photos from parties on or before December 1st, 2014.  Go to the [Party Pictures Archive](http://www.newyorksocialdiary.com/party-pictures) to see a list of (party) pages.  We want to get the url for each party page, along with its date.\n",
    "\n",
    "Here are some packages that you may find useful.  You are welcome to use others, if you prefer."
   ]
  },
  {
   "cell_type": "code",
   "execution_count": 3,
   "metadata": {},
   "outputs": [],
   "source": [
    "import requests\n",
    "import dill\n",
    "from bs4 import BeautifulSoup\n",
    "from datetime import datetime"
   ]
  },
  {
   "cell_type": "markdown",
   "metadata": {},
   "source": [
    "We recommend using Python [Requests](http://docs.python-requests.org/en/master/) to download the HTML pages, and [BeautifulSoup](https://www.crummy.com/software/BeautifulSoup/) to process the HTML.  Let's start by getting the [first page](http://www.newyorksocialdiary.com/party-pictures)."
   ]
  },
  {
   "cell_type": "code",
   "execution_count": 4,
   "metadata": {},
   "outputs": [
    {
     "data": {
      "text/plain": [
       "200"
      ]
     },
     "execution_count": 4,
     "metadata": {},
     "output_type": "execute_result"
    }
   ],
   "source": [
    "page = requests.get(\"https://web.archive.org/web/20150913224145/http://www.newyorksocialdiary.com/party-pictures/\") # Use requests.get to download the page.\n",
    "page.status_code"
   ]
  },
  {
   "cell_type": "markdown",
   "metadata": {},
   "source": [
    "Now, we process the text of the page with BeautifulSoup."
   ]
  },
  {
   "cell_type": "code",
   "execution_count": 5,
   "metadata": {},
   "outputs": [
    {
     "data": {
      "text/plain": [
       "'<!DOCTYPE html>\\n<!--[if IEMobile 7]><html class=\"no-js ie iem7\" lang=\"en\" dir=\"ltr\"><![endif]-->\\n<!--[if lte IE 6]><html class=\"no-js ie lt-ie9 lt-ie8 lt-ie7\" lang=\"en\" dir=\"ltr\"><![endif]-->\\n<!--[if (IE 7)&(!IEMobile)]><html class=\"no-js ie lt-ie9 lt-ie8\" lang=\"en\" dir=\"ltr\"><![endif]-->\\n<!--[if IE 8]><html class=\"no-js ie lt-ie9\" lang=\"en\" dir=\"ltr\"><![endif]-->\\n<!--[if (gte IE 9)|(gt IEMobile 7)]><html class=\"no-js ie\" lang=\"en\" dir=\"ltr\" prefix=\"fb: http://ogp.me/ns/fb# og: http://ogp.me/ns# article: http://ogp.me/ns/article# book: http://ogp.me/ns/book# profile: http://ogp.me/ns/profile# video: http://ogp.me/ns/video# product: http://ogp.me/ns/product#\"><![endif]-->\\n<!--[if !IE]><!-->\\n<html class=\"no-js\" dir=\"ltr\" lang=\"en\" prefix=\"fb: http://ogp.me/ns/fb# og: http://ogp.me/ns# article: http://ogp.me/ns/article# book: http://ogp.me/ns/book# profile: http://ogp.me/ns/profile# video: http://ogp.me/ns/video# product: http://ogp.me/ns/product#\">\\n <!--<![endif]-->\\n <head>\\n  <script src=\"//archive.org/includes/analytics.js?v=cf34f82\" type=\"text/javascript\">\\n  </script>\\n  <script type=\"text/javascript\">\\n   window.addEventListener(\\'DOMContentLoaded\\',function(){var v=archive_analytics.values;v.service=\\'wb\\';v.server_name=\\'wwwb-app41.us.archive.org\\';v.server_ms=327;archive_analytics.send_pageview({});});\\n  </script>\\n  <script charset=\"utf-8\" src=\"/static/js/ait-client-rewrite.js?v=1553621510\" type=\"text/javascript\">\\n  </script>\\n  <script type=\"text/javascript\">\\n   WB_wombat_Init(\"https://web.archive.org/web\", \"20150913224145\", \"www.newyorksocialdiary.com:80\");\\n  </script>\\n  <script charset=\"utf-8\" src=\"/static/js/wbhack.js?v=1553621510\" type=\"text/javascript\">\\n  </script>\\n  <script type=\"text/javascript\">\\n   __wbhack.init(\\'https://web.archive.org/web\\');\\n  </script>\\n  <link href=\"/static/css/banner-styles.css?v=1553621509\" rel=\"stylesheet\" type=\"text/css\"/>\\n  <link href=\"/static/css/iconochive.css?v=1553621509\" rel=\"stylesheet\" type=\"text/css\"/>\\n  <!-- End Wayback Rewrite JS Include -->\\n  <title>\\n   Party Pictures Archive | New York Social Diary\\n  </title>\\n  <meta charset=\"utf-8\"/>\\n  <link href=\"https://web.archive.org/web/20150913224145im_/http://www.newyorksocialdiary.com/sites/all/themes/omega_nysd/favicon.ico\" rel=\"shortcut icon\" type=\"image/vnd.microsoft.icon\"/>\\n  <link href=\"https://web.archive.org/web/20150913224145im_/http://www.newyorksocialdiary.com/sites/all/themes/omega_nysd/apple-touch-icon-precomposed-114x114.png\" rel=\"apple-touch-icon-precomposed\" sizes=\"114x114\"/>\\n  <link href=\"http://www.w3.org/1999/xhtml/vocab\" rel=\"profile\"/>\\n  <link href=\"https://web.archive.org/web/20150913224145im_/http://www.newyorksocialdiary.com/sites/all/themes/omega_nysd/apple-touch-icon-precomposed.png\" rel=\"apple-touch-icon-precomposed\"/>\\n  <meta content=\"width\" name=\"MobileOptimized\"/>\\n  <meta content=\"on\" http-equiv=\"cleartype\"/>\\n  <link href=\"https://web.archive.org/web/20150913224145im_/http://www.newyorksocialdiary.com/sites/all/themes/omega_nysd/apple-touch-icon-precomposed-144x144.png\" rel=\"apple-touch-icon-precomposed\" sizes=\"144x144\"/>\\n  <meta content=\"true\" name=\"HandheldFriendly\"/>\\n  <link href=\"https://web.archive.org/web/20150913224145im_/http://www.newyorksocialdiary.com/sites/all/themes/omega_nysd/apple-touch-icon-precomposed-72x72.png\" rel=\"apple-touch-icon-precomposed\" sizes=\"72x72\"/>\\n  <meta content=\"Drupal 7 (http://drupal.org)\" name=\"generator\"/>\\n  <link href=\"https://web.archive.org/web/20150913224145im_/http://www.newyorksocialdiary.com/files/_categories/party_pics.jpg\" rel=\"image_src\"/>\\n  <meta content=\"width=device-width\" name=\"viewport\"/>\\n  <link href=\"https://web.archive.org/web/20150913224145/http://www.newyorksocialdiary.com/party-pictures\" rel=\"canonical\"/>\\n  <link href=\"https://web.archive.org/web/20150913224145/http://www.newyorksocialdiary.com/taxonomy/term/59\" rel=\"shortlink\"/>\\n  <meta content=\"New York Social Diary\" property=\"og:site_name\"/>\\n  <meta content=\"article\" property=\"og:type\"/>\\n  <meta content=\"https://web.archive.org/web/20150913224145/http://www.newyorksocialdiary.com/party-pictures\" property=\"og:url\"/>\\n  <meta content=\"Party Pictures\" property=\"og:title\"/>\\n  <meta content=\"https://web.archive.org/web/20150913224145im_/http://www.newyorksocialdiary.com/files/_categories/party_pics.jpg\" property=\"og:image\"/>\\n  <meta content=\"summary\" name=\"twitter:card\"/>\\n  <meta content=\"https://web.archive.org/web/20150913224145im_/http://www.newyorksocialdiary.com/party-pictures\" name=\"twitter:url\"/>\\n  <meta content=\"Party Pictures\" name=\"twitter:title\"/>\\n  <meta content=\"http://www.newyorksocialdiary.com/files/_categories/party_pics.jpg\" name=\"twitter:image:src\"/>\\n  <meta content=\"GkekkRSFGemxLIt7se-185MKwha5Nrdp-Wj9fJYkoZQ\" name=\"google-site-verification\"/>\\n  <style>\\n   @import url(\"https://web.archive.org/web/20150913224145cs_/http://www.newyorksocialdiary.com/sites/all/themes/omega/omega/css/modules/system/system.base.css?ntegyz\");\\n@import url(\"https://web.archive.org/web/20150913224145cs_/http://www.newyorksocialdiary.com/sites/all/themes/omega/omega/css/modules/system/system.menus.theme.css?ntegyz\");\\n@import url(\"https://web.archive.org/web/20150913224145cs_/http://www.newyorksocialdiary.com/sites/all/themes/omega/omega/css/modules/system/system.messages.theme.css?ntegyz\");\\n@import url(\"https://web.archive.org/web/20150913224145cs_/http://www.newyorksocialdiary.com/sites/all/themes/omega/omega/css/modules/system/system.theme.css?ntegyz\");\\n@import url(\"https://web.archive.org/web/20150913224145cs_/http://www.newyorksocialdiary.com/sites/all/modules/contrib/adaptive_image/css/adaptive-image.css?ntegyz\");\\n@import url(\"https://web.archive.org/web/20150913224145cs_/http://www.newyorksocialdiary.com/sites/all/modules/contrib/date/date_api/date.css?ntegyz\");\\n@import url(\"https://web.archive.org/web/20150913224145cs_/http://www.newyorksocialdiary.com/sites/all/themes/omega/omega/css/modules/field/field.theme.css?ntegyz\");\\n@import url(\"https://web.archive.org/web/20150913224145cs_/http://www.newyorksocialdiary.com/modules/node/node.css?ntegyz\");\\n@import url(\"https://web.archive.org/web/20150913224145cs_/http://www.newyorksocialdiary.com/sites/all/themes/omega/omega/css/modules/user/user.theme.css?ntegyz\");\\n@import url(\"https://web.archive.org/web/20150913224145cs_/http://www.newyorksocialdiary.com/sites/all/themes/omega/omega/css/modules/user/user.base.css?ntegyz\");\\n@import url(\"https://web.archive.org/web/20150913224145cs_/http://www.newyorksocialdiary.com/sites/all/modules/contrib/views/css/views.css?ntegyz\");\\n@import url(\"https://web.archive.org/web/20150913224145cs_/http://www.newyorksocialdiary.com/sites/all/modules/contrib/ckeditor/css/ckeditor.css?ntegyz\");\\n  </style>\\n  <style>\\n   @import url(\"https://web.archive.org/web/20150913224145cs_/http://www.newyorksocialdiary.com/sites/all/modules/contrib/ctools/css/ctools.css?ntegyz\");\\n@import url(\"https://web.archive.org/web/20150913224145cs_/http://www.newyorksocialdiary.com/sites/all/modules/contrib/panels/css/panels.css?ntegyz\");\\n@import url(\"https://web.archive.org/web/20150913224145cs_/http://www.newyorksocialdiary.com/sites/all/modules/contrib/panels/plugins/layouts/onecol/onecol.css?ntegyz\");\\n@import url(\"https://web.archive.org/web/20150913224145cs_/http://www.newyorksocialdiary.com/sites/all/modules/contrib/nice_menus/css/nice_menus.css?ntegyz\");\\n  </style>\\n  <style>\\n   @import url(\"https://web.archive.org/web/20150913224145cs_/http://www.newyorksocialdiary.com/sites/all/themes/omega_nysd/css/omega-nysd.normalize.css?ntegyz\");\\n@import url(\"https://web.archive.org/web/20150913224145cs_/http://www.newyorksocialdiary.com/sites/all/themes/omega_nysd/css/omega-nysd.hacks.css?ntegyz\");\\n@import url(\"https://web.archive.org/web/20150913224145cs_/http://www.newyorksocialdiary.com/sites/all/themes/omega_nysd/css/omega-nysd.styles.css?ntegyz\");\\n  </style>\\n  <!--[if lte IE 8]>\\n<style>\\n@import url(\"http://www.newyorksocialdiary.com/sites/all/themes/omega_nysd/css/omega-nysd.no-query.css?ntegyz\");\\n</style>\\n<![endif]-->\\n  <style>\\n   @import url(\"https://web.archive.org/web/20150913224145cs_/http://www.newyorksocialdiary.com/sites/all/themes/omega_nysd/css/layouts/nysd_legacy/nysd_legacy.layout.css?ntegyz\");\\n  </style>\\n  <!--[if lte IE 8]>\\n<style>\\n@import url(\"http://www.newyorksocialdiary.com/sites/all/themes/omega_nysd/css/layouts/nysd_legacy/nysd_legacy.layout.no-query.css?ntegyz\");\\n</style>\\n<![endif]-->\\n  <script>\\n   document.cookie = \\'adaptive_image=\\' + Math.max(screen.width, screen.height) + \\'; path=/\\';\\n  </script>\\n  <script src=\"https://web.archive.org/web/20150913224145js_/http://www.newyorksocialdiary.com/misc/jquery.js?v=1.4.4\">\\n  </script>\\n  <script src=\"https://web.archive.org/web/20150913224145js_/http://www.newyorksocialdiary.com/misc/jquery.once.js?v=1.2\">\\n  </script>\\n  <script src=\"https://web.archive.org/web/20150913224145js_/http://www.newyorksocialdiary.com/misc/drupal.js?ntegyz\">\\n  </script>\\n  <script src=\"https://web.archive.org/web/20150913224145js_/http://www.newyorksocialdiary.com/sites/all/themes/omega/omega/js/no-js.js?ntegyz\">\\n  </script>\\n  <script src=\"https://web.archive.org/web/20150913224145js_/http://www.newyorksocialdiary.com/sites/all/modules/contrib/nice_menus/js/jquery.bgiframe.js?v=2.1\">\\n  </script>\\n  <script src=\"https://web.archive.org/web/20150913224145js_/http://www.newyorksocialdiary.com/sites/all/modules/contrib/nice_menus/js/jquery.hoverIntent.js?v=0.5\">\\n  </script>\\n  <script src=\"https://web.archive.org/web/20150913224145js_/http://www.newyorksocialdiary.com/sites/all/modules/contrib/nice_menus/js/superfish.js?v=1.4.8\">\\n  </script>\\n  <script src=\"https://web.archive.org/web/20150913224145js_/http://www.newyorksocialdiary.com/sites/all/modules/contrib/nice_menus/js/nice_menus.js?v=1.0\">\\n  </script>\\n  <script src=\"https://web.archive.org/web/20150913224145js_/http://www.newyorksocialdiary.com/sites/all/modules/contrib/google_analytics/googleanalytics.js?ntegyz\">\\n  </script>\\n  <script>\\n   (function(i,s,o,g,r,a,m){i[\"GoogleAnalyticsObject\"]=r;i[r]=i[r]||function(){(i[r].q=i[r].q||[]).push(arguments)},i[r].l=1*new Date();a=s.createElement(o),m=s.getElementsByTagName(o)[0];a.async=1;a.src=g;m.parentNode.insertBefore(a,m)})(window,document,\"script\",\"//web.archive.org/web/20150913224145/http://www.google-analytics.com/analytics.js\",\"ga\");ga(\"create\", \"UA-1286231-1\", {\"cookieDomain\":\"auto\"});ga(\"set\", \"anonymizeIp\", true);ga(\"send\", \"pageview\");\\n  </script>\\n  <script src=\"https://web.archive.org/web/20150913224145js_/http://s7.addthis.com/js/300/addthis_widget.js#pubid=ra-4dbf033c3fad3d6b\">\\n  </script>\\n  <script src=\"https://web.archive.org/web/20150913224145js_/http://www.newyorksocialdiary.com/sites/all/themes/omega_nysd/js/jquery.columnizer.js?ntegyz\">\\n  </script>\\n  <script src=\"https://web.archive.org/web/20150913224145js_/http://www.newyorksocialdiary.com/sites/all/themes/omega_nysd/js/omega-nysd.behaviors.js?ntegyz\">\\n  </script>\\n  <script>\\n   jQuery.extend(Drupal.settings, {\"basePath\":\"\\\\/\",\"pathPrefix\":\"\",\"googleanalytics\":{\"trackOutbound\":1,\"trackMailto\":1,\"trackDownload\":1,\"trackDownloadExtensions\":\"7z|aac|arc|arj|asf|asx|avi|bin|csv|doc(x|m)?|dot(x|m)?|exe|flv|gif|gz|gzip|hqx|jar|jpe?g|js|mp(2|3|4|e?g)|mov(ie)?|msi|msp|pdf|phps|png|ppt(x|m)?|pot(x|m)?|pps(x|m)?|ppam|sld(x|m)?|thmx|qtm?|ra(m|r)?|sea|sit|tar|tgz|torrent|txt|wav|wma|wmv|wpd|xls(x|m|b)?|xlt(x|m)|xlam|xml|z|zip\"},\"nice_menus_options\":{\"delay\":800,\"speed\":\"slow\"},\"urlIsAjaxTrusted\":{\"\\\\/party-pictures\":true}});\\n  </script>\\n </head>\\n <body class=\"html not-front not-logged-in page-taxonomy page-taxonomy-term page-taxonomy-term- page-taxonomy-term-59 section-party-pictures\">\\n  <a class=\"element-invisible element-focusable\" href=\"#main-content\">\\n   Skip to main content\\n  </a>\\n  <div class=\"l-page has-one-sidebar has-sidebar\">\\n   <div class=\"l-page-prefix\">\\n    <div class=\"l-region l-region--page-prefix\">\\n     <div class=\"panel-pane pane-custom pane-1\">\\n      <div class=\"email-subscribe\">\\n       <form action=\"https://web.archive.org/web/20150913224145/http://members.newyorksocialdiary.com/subscribe/subscribe.tml\" method=\"POST\">\\n        <input class=\"email\" name=\"email\" onblur=\"if(this.value == \\'\\') { this.value = \\'Subscribe to NYSD\\'; }\" onfocus=\"if(this.value == \\'Subscribe to NYSD\\') { this.value = \\'\\'; }\" type=\"text\" value=\"Subscribe to NYSD\"/>\\n        <input class=\"subscribe\" name=\"subscribe\" type=\"submit\" value=\"GO\"/>\\n        <input name=\"list\" type=\"hidden\" value=\"nysdsubscribers\"/>\\n        <input name=\"confirm\" type=\"hidden\" value=\"none\"/>\\n        <input name=\"showconfirm\" type=\"hidden\" value=\"F\"/>\\n        <input name=\"url\" type=\"hidden\" value=\"http://www.newyorksocialdiary.com\"/>\\n        <input name=\"appendsubinfotourl\" type=\"hidden\" value=\"T\"/>\\n       </form>\\n      </div>\\n     </div>\\n     <div class=\"panel-pane pane-ad pane-12 adverserve-ad advertserve-12\">\\n      <!-- BEGIN ADVERTPRO CODE BLOCK -->\\n      <script type=\"text/javascript\">\\n       document.write(\\'<scr\\' + \\'ipt src=\"https://web.archive.org/web/20150913224145/http://newyorksocialdiary.advertserve.com/servlet/view/banner/javascript/zone?zid=12&pid=0&random=\\' + Math.floor(89999999 * Math.random() + 10000000) + \\'&millis=\\' + new Date().getTime() + \\'&referrer=\\' + encodeURIComponent(document.location) + \\'\" type=\"text/javascript\"></scr\\' + \\'ipt>\\');\\n      </script>\\n      <!-- END ADVERTPRO CODE BLOCK -->\\n     </div>\\n    </div>\\n   </div>\\n   <header class=\"l-header\" role=\"banner\">\\n    <div class=\"l-constrained\">\\n     <div class=\"l-branding site-branding\">\\n      <div class=\"l-region l-region--branding\">\\n       <div class=\"panel-pane pane-page-logo\">\\n        <a href=\"/web/20150913224145/http://www.newyorksocialdiary.com/\" id=\"logo\" rel=\"home\" title=\"Home\">\\n         <img alt=\"Home\" src=\"https://web.archive.org/web/20150913224145im_/http://www.newyorksocialdiary.com/sites/all/themes/omega_nysd/nysd_weblogo_final.gif\"/>\\n        </a>\\n       </div>\\n      </div>\\n     </div>\\n    </div>\\n   </header>\\n   <div class=\"l-main l-constrained\">\\n    <div class=\"l-region l-region--navigation\">\\n     <div class=\"panel-pane pane-block pane-nice-menus-1\">\\n      <ul class=\"nice-menu nice-menu-down nice-menu-main-menu\" id=\"nice-menu-1\">\\n       <li class=\"menu-1227 menu-path-node-134656 first odd \">\\n        <a href=\"/web/20150913224145/http://www.newyorksocialdiary.com/nysd/socialdiarysectional\">\\n         Social Diary\\n        </a>\\n       </li>\\n       <li class=\"menu-1215 menu-path-node-1912772 even \">\\n        <a href=\"/web/20150913224145/http://www.newyorksocialdiary.com/nysd/partypictures\" title=\"\">\\n         Party Pictures\\n        </a>\\n       </li>\\n       <li class=\"menu-1104 menuparent menu-path-front odd \">\\n        <a href=\"/web/20150913224145/http://www.newyorksocialdiary.com/\" title=\"\">\\n         Diary Features\\n        </a>\\n        <ul>\\n         <li class=\"menu-1216 menu-path-node-1912773 first odd \">\\n          <a href=\"/web/20150913224145/http://www.newyorksocialdiary.com/nysd/guestdiary\">\\n           Guest Diaries\\n          </a>\\n         </li>\\n         <li class=\"menu-1234 menu-path-node-1912778 even \">\\n          <a href=\"/web/20150913224145/http://www.newyorksocialdiary.com/nysd/nysdhouse\">\\n           House\\n          </a>\\n         </li>\\n         <li class=\"menu-1219 menu-path-node-1912777 odd \">\\n          <a href=\"/web/20150913224145/http://www.newyorksocialdiary.com/nysd/across\">\\n           Across the Nation\\n          </a>\\n         </li>\\n         <li class=\"menu-1218 menu-path-node-1912774 even \">\\n          <a href=\"/web/20150913224145/http://www.newyorksocialdiary.com/nysd/socialhistory\">\\n           Social History\\n          </a>\\n         </li>\\n         <li class=\"menu-1223 menu-path-node-1912775 odd \">\\n          <a href=\"/web/20150913224145/http://www.newyorksocialdiary.com/nysd/dining\">\\n           Dining\\n          </a>\\n         </li>\\n         <li class=\"menu-1235 menu-path-node-1912779 even \">\\n          <a href=\"/web/20150913224145/http://www.newyorksocialdiary.com/nysd/travel\">\\n           Travel\\n          </a>\\n         </li>\\n         <li class=\"menu-1220 menu-path-node-1912776 odd \">\\n          <a href=\"/web/20150913224145/http://www.newyorksocialdiary.com/nysd/artset\">\\n           Art Set\\n          </a>\\n         </li>\\n         <li class=\"menu-1063 menu-path-taxonomy-term-57 even last\">\\n          <a href=\"/web/20150913224145/http://www.newyorksocialdiary.com/nysd/thelist\">\\n           The List / Cameo\\n          </a>\\n         </li>\\n        </ul>\\n       </li>\\n       <li class=\"menu-1061 menu-path-calendar even \">\\n        <a href=\"/web/20150913224145/http://www.newyorksocialdiary.com/calendar\" title=\"\">\\n         Calendar\\n        </a>\\n       </li>\\n       <li class=\"menu-1217 menu-path-node-283 odd \">\\n        <a href=\"/web/20150913224145/http://www.newyorksocialdiary.com/nysd/archives\">\\n         Archives\\n        </a>\\n       </li>\\n       <li class=\"menu-1359 menuparent menu-path-front even last\">\\n        <a href=\"/web/20150913224145/http://www.newyorksocialdiary.com/\">\\n         NYSD Beauty\\n        </a>\\n        <ul>\\n         <li class=\"menu-1360 menu-path-node-1913645 first odd \">\\n          <a href=\"/web/20150913224145/http://www.newyorksocialdiary.com/beauty-wellness/2015/beauty-and-wellness\" title=\"Find out about beauty and wellness in NYC.\">\\n           Beauty &amp; Wellness\\n          </a>\\n         </li>\\n         <li class=\"menu-1361 menu-path-nysd-beauty even last\">\\n          <a href=\"/web/20150913224145/http://www.newyorksocialdiary.com/nysd-beauty\" target=\"_blank\" title=\"See the selection of wonderful beauty products.\">\\n           Beauty Shop\\n          </a>\\n         </li>\\n        </ul>\\n       </li>\\n      </ul>\\n     </div>\\n     <div class=\"panel-pane pane-block pane-search-api-page-default\">\\n      <form accept-charset=\"UTF-8\" action=\"/web/20150913224145/http://www.newyorksocialdiary.com/party-pictures\" class=\"search-api-page-search-form-default\" id=\"search-api-page-search-form-default\" method=\"post\">\\n       <div>\\n        <div class=\"form-item form-type-textfield form-item-keys-1\">\\n         <label class=\"element-invisible\" for=\"edit-keys-1\">\\n          Type name or keyword\\n         </label>\\n         <input class=\"form-text\" id=\"edit-keys-1\" maxlength=\"128\" name=\"keys_1\" placeholder=\"Type name or keyword\" size=\"15\" type=\"text\" value=\"\"/>\\n        </div>\\n        <input name=\"id\" type=\"hidden\" value=\"1\"/>\\n        <input class=\"form-submit\" id=\"edit-submit-1\" name=\"op\" type=\"submit\" value=\"Search\"/>\\n        <input name=\"form_build_id\" type=\"hidden\" value=\"form-DwyBI7mexN4MqdpRn1X5EDWnSSGStCG3gsf3m-SzKsg\"/>\\n        <input name=\"form_id\" type=\"hidden\" value=\"search_api_page_search_form_default\"/>\\n       </div>\\n      </form>\\n     </div>\\n    </div>\\n    <a id=\"main-content\">\\n    </a>\\n    <div class=\"l-content\" role=\"main\">\\n     <div class=\"panel-pane pane-page-title\">\\n      <h1>\\n       Party Pictures Archive\\n      </h1>\\n     </div>\\n     <div class=\"panel-pane pane-page-content\">\\n      <div class=\"panel-display panel-1col clearfix\">\\n       <div class=\"panel-panel panel-col\">\\n        <div>\\n         <div class=\"panel-pane pane-views pane-content-by-category\">\\n          <div class=\"view view-content-by-category view-id-content_by_category view-display-id-list view-dom-id-cf01417f4166ff2644abb36f123b2a5a\">\\n           <div class=\"view-content\">\\n            <div class=\"views-row views-row-1 views-row-odd views-row-first\">\\n             <span class=\"views-field views-field-title\">\\n              <span class=\"field-content\">\\n               <a href=\"/web/20150913224145/http://www.newyorksocialdiary.com/party-pictures/2015/kicks-offs-sing-offs-and-pro-ams\">\\n                Kicks offs, sing offs, and pro ams\\n               </a>\\n              </span>\\n             </span>\\n             <span class=\"views-field views-field-created\">\\n              <span class=\"field-content\">\\n               Friday, September 11, 2015\\n              </span>\\n             </span>\\n            </div>\\n            <div class=\"views-row views-row-2 views-row-even\">\\n             <span class=\"views-field views-field-title\">\\n              <span class=\"field-content\">\\n               <a href=\"/web/20150913224145/http://www.newyorksocialdiary.com/party-pictures/2015/grand-finale-of-the-hampton-classic-horse-show\">\\n                Grand Finale of the Hampton Classic Horse Show\\n               </a>\\n              </span>\\n             </span>\\n             <span class=\"views-field views-field-created\">\\n              <span class=\"field-content\">\\n               Tuesday, September 1, 2015\\n              </span>\\n             </span>\\n            </div>\\n            <div class=\"views-row views-row-3 views-row-odd\">\\n             <span class=\"views-field views-field-title\">\\n              <span class=\"field-content\">\\n               <a href=\"/web/20150913224145/http://www.newyorksocialdiary.com/party-pictures/2015/riders-spectators-horses-and-more\">\\n                Riders, Spectators, Horses, and More ...\\n               </a>\\n              </span>\\n             </span>\\n             <span class=\"views-field views-field-created\">\\n              <span class=\"field-content\">\\n               Wednesday, August 26, 2015\\n              </span>\\n             </span>\\n            </div>\\n            <div class=\"views-row views-row-4 views-row-even\">\\n             <span class=\"views-field views-field-title\">\\n              <span class=\"field-content\">\\n               <a href=\"/web/20150913224145/http://www.newyorksocialdiary.com/party-pictures/2015/artist-and-writers-and-designers\">\\n                Artist and Writers (and Designers)\\n               </a>\\n              </span>\\n             </span>\\n             <span class=\"views-field views-field-created\">\\n              <span class=\"field-content\">\\n               Thursday, August 20, 2015\\n              </span>\\n             </span>\\n            </div>\\n            <div class=\"views-row views-row-5 views-row-odd\">\\n             <span class=\"views-field views-field-title\">\\n              <span class=\"field-content\">\\n               <a href=\"/web/20150913224145/http://www.newyorksocialdiary.com/party-pictures/2015/garden-parties-kickoffs-and-summer-benefits\">\\n                Garden Parties Kickoffs  and Summer Benefits\\n               </a>\\n              </span>\\n             </span>\\n             <span class=\"views-field views-field-created\">\\n              <span class=\"field-content\">\\n               Monday, August 17, 2015\\n              </span>\\n             </span>\\n            </div>\\n            <div class=\"views-row views-row-6 views-row-even\">\\n             <span class=\"views-field views-field-title\">\\n              <span class=\"field-content\">\\n               <a href=\"/web/20150913224145/http://www.newyorksocialdiary.com/party-pictures/2015/the-summer-set\">\\n                The Summer Set\\n               </a>\\n              </span>\\n             </span>\\n             <span class=\"views-field views-field-created\">\\n              <span class=\"field-content\">\\n               Wednesday, August 12, 2015\\n              </span>\\n             </span>\\n            </div>\\n            <div class=\"views-row views-row-7 views-row-odd\">\\n             <span class=\"views-field views-field-title\">\\n              <span class=\"field-content\">\\n               <a href=\"/web/20150913224145/http://www.newyorksocialdiary.com/party-pictures/2015/midsummer-parties\">\\n                Midsummer Parties\\n               </a>\\n              </span>\\n             </span>\\n             <span class=\"views-field views-field-created\">\\n              <span class=\"field-content\">\\n               Wednesday, August 5, 2015\\n              </span>\\n             </span>\\n            </div>\\n            <div class=\"views-row views-row-8 views-row-even\">\\n             <span class=\"views-field views-field-title\">\\n              <span class=\"field-content\">\\n               <a href=\"/web/20150913224145/http://www.newyorksocialdiary.com/party-pictures/2015/the-watermill-center-and-the-parrish\">\\n                The Watermill Center and The Parrish\\n               </a>\\n              </span>\\n             </span>\\n             <span class=\"views-field views-field-created\">\\n              <span class=\"field-content\">\\n               Wednesday, July 29, 2015\\n              </span>\\n             </span>\\n            </div>\\n            <div class=\"views-row views-row-9 views-row-odd\">\\n             <span class=\"views-field views-field-title\">\\n              <span class=\"field-content\">\\n               <a href=\"/web/20150913224145/http://www.newyorksocialdiary.com/party-pictures/2015/unconditional-love\">\\n                Unconditional Love\\n               </a>\\n              </span>\\n             </span>\\n             <span class=\"views-field views-field-created\">\\n              <span class=\"field-content\">\\n               Thursday, July 23, 2015\\n              </span>\\n             </span>\\n            </div>\\n            <div class=\"views-row views-row-10 views-row-even\">\\n             <span class=\"views-field views-field-title\">\\n              <span class=\"field-content\">\\n               <a href=\"/web/20150913224145/http://www.newyorksocialdiary.com/party-pictures/2015/womens-health-boys-girls-cancer-research-and-just-plain-summer-fun\">\\n                Women\\'s Health, Boys &amp; Girls, Cancer Research, and Just Plain Summer Fun\\n               </a>\\n              </span>\\n             </span>\\n             <span class=\"views-field views-field-created\">\\n              <span class=\"field-content\">\\n               Friday, July 17, 2015\\n              </span>\\n             </span>\\n            </div>\\n            <div class=\"views-row views-row-11 views-row-odd\">\\n             <span class=\"views-field views-field-title\">\\n              <span class=\"field-content\">\\n               <a href=\"/web/20150913224145/http://www.newyorksocialdiary.com/party-pictures/2015/art-southampton-mashomack-sofo-and-arthamptons\">\\n                Art Southampton, Mashomack, SoFo, and ArtHamptons\\n               </a>\\n              </span>\\n             </span>\\n             <span class=\"views-field views-field-created\">\\n              <span class=\"field-content\">\\n               Monday, July 13, 2015\\n              </span>\\n             </span>\\n            </div>\\n            <div class=\"views-row views-row-12 views-row-even\">\\n             <span class=\"views-field views-field-title\">\\n              <span class=\"field-content\">\\n               <a href=\"/web/20150913224145/http://www.newyorksocialdiary.com/party-pictures/2015/this-and-that\">\\n                This and That\\n               </a>\\n              </span>\\n             </span>\\n             <span class=\"views-field views-field-created\">\\n              <span class=\"field-content\">\\n               Friday, July 10, 2015\\n              </span>\\n             </span>\\n            </div>\\n            <div class=\"views-row views-row-13 views-row-odd\">\\n             <span class=\"views-field views-field-title\">\\n              <span class=\"field-content\">\\n               <a href=\"/web/20150913224145/http://www.newyorksocialdiary.com/party-pictures/2015/divine-intervention\">\\n                Divine Intervention\\n               </a>\\n              </span>\\n             </span>\\n             <span class=\"views-field views-field-created\">\\n              <span class=\"field-content\">\\n               Friday, July 3, 2015\\n              </span>\\n             </span>\\n            </div>\\n            <div class=\"views-row views-row-14 views-row-even\">\\n             <span class=\"views-field views-field-title\">\\n              <span class=\"field-content\">\\n               <a href=\"/web/20150913224145/http://www.newyorksocialdiary.com/party-pictures/2015/where-the-wild-things\">\\n                Where the Wild Things ...\\n               </a>\\n              </span>\\n             </span>\\n             <span class=\"views-field views-field-created\">\\n              <span class=\"field-content\">\\n               Monday, June 29, 2015\\n              </span>\\n             </span>\\n            </div>\\n            <div class=\"views-row views-row-15 views-row-odd\">\\n             <span class=\"views-field views-field-title\">\\n              <span class=\"field-content\">\\n               <a href=\"/web/20150913224145/http://www.newyorksocialdiary.com/party-pictures/2015/signature-events\">\\n                Signature Events\\n               </a>\\n              </span>\\n             </span>\\n             <span class=\"views-field views-field-created\">\\n              <span class=\"field-content\">\\n               Friday, June 26, 2015\\n              </span>\\n             </span>\\n            </div>\\n            <div class=\"views-row views-row-16 views-row-even\">\\n             <span class=\"views-field views-field-title\">\\n              <span class=\"field-content\">\\n               <a href=\"/web/20150913224145/http://www.newyorksocialdiary.com/party-pictures/2015/young-new-yorkers-chashama-brain-behavior-fundahigado-america\">\\n                Young New Yorkers, chashama, Brain &amp; Behavior, FundaHigado America\\n               </a>\\n              </span>\\n             </span>\\n             <span class=\"views-field views-field-created\">\\n              <span class=\"field-content\">\\n               Tuesday, June 23, 2015\\n              </span>\\n             </span>\\n            </div>\\n            <div class=\"views-row views-row-17 views-row-odd\">\\n             <span class=\"views-field views-field-title\">\\n              <span class=\"field-content\">\\n               <a href=\"/web/20150913224145/http://www.newyorksocialdiary.com/party-pictures/2015/play-for-pink-freeing-voices-stories-from-the-war-and-spirit-of-achievement\">\\n                Play For Pink, Freeing Voices, Stories from the War, and Spirit of Achievement\\n               </a>\\n              </span>\\n             </span>\\n             <span class=\"views-field views-field-created\">\\n              <span class=\"field-content\">\\n               Monday, June 22, 2015\\n              </span>\\n             </span>\\n            </div>\\n            <div class=\"views-row views-row-18 views-row-even\">\\n             <span class=\"views-field views-field-title\">\\n              <span class=\"field-content\">\\n               <a href=\"/web/20150913224145/http://www.newyorksocialdiary.com/party-pictures/2015/a-taste-of-summer\">\\n                A Taste of Summer\\n               </a>\\n              </span>\\n             </span>\\n             <span class=\"views-field views-field-created\">\\n              <span class=\"field-content\">\\n               Wednesday, June 17, 2015\\n              </span>\\n             </span>\\n            </div>\\n            <div class=\"views-row views-row-19 views-row-odd\">\\n             <span class=\"views-field views-field-title\">\\n              <span class=\"field-content\">\\n               <a href=\"/web/20150913224145/http://www.newyorksocialdiary.com/party-pictures/2015/gods-love-we-deliver-the-black-alumni-of-pratt-a-gala-salute-for-wnet-and\">\\n                God’s Love We Deliver, The Black Alumni of Pratt, A Gala Salute for WNET, and Covenant House\\n               </a>\\n              </span>\\n             </span>\\n             <span class=\"views-field views-field-created\">\\n              <span class=\"field-content\">\\n               Monday, June 15, 2015\\n              </span>\\n             </span>\\n            </div>\\n            <div class=\"views-row views-row-20 views-row-even\">\\n             <span class=\"views-field views-field-title\">\\n              <span class=\"field-content\">\\n               <a href=\"/web/20150913224145/http://www.newyorksocialdiary.com/party-pictures/2015/education-research-and-patient-care\">\\n                Education, research and patient care\\n               </a>\\n              </span>\\n             </span>\\n             <span class=\"views-field views-field-created\">\\n              <span class=\"field-content\">\\n               Wednesday, June 10, 2015\\n              </span>\\n             </span>\\n            </div>\\n            <div class=\"views-row views-row-21 views-row-odd\">\\n             <span class=\"views-field views-field-title\">\\n              <span class=\"field-content\">\\n               <a href=\"/web/20150913224145/http://www.newyorksocialdiary.com/party-pictures/2015/broadway-melodies-historic-hearst-castle-the-hermione-calvary-china-institute\">\\n                Broadway Melodies, Historic Hearst Castle, the Hermione, Calvary, China Institute, and the Inner-City\\n               </a>\\n              </span>\\n             </span>\\n             <span class=\"views-field views-field-created\">\\n              <span class=\"field-content\">\\n               Monday, June 8, 2015\\n              </span>\\n             </span>\\n            </div>\\n            <div class=\"views-row views-row-22 views-row-even\">\\n             <span class=\"views-field views-field-title\">\\n              <span class=\"field-content\">\\n               <a href=\"/web/20150913224145/http://www.newyorksocialdiary.com/party-pictures/2015/philanthropic-legal-social-justice-civic-and-business-communities\">\\n                Philanthropic, legal, social justice, civic and business communities\\n               </a>\\n              </span>\\n             </span>\\n             <span class=\"views-field views-field-created\">\\n              <span class=\"field-content\">\\n               Friday, June 5, 2015\\n              </span>\\n             </span>\\n            </div>\\n            <div class=\"views-row views-row-23 views-row-odd\">\\n             <span class=\"views-field views-field-title\">\\n              <span class=\"field-content\">\\n               <a href=\"/web/20150913224145/http://www.newyorksocialdiary.com/party-pictures/2015/milestone-celebrations\">\\n                Milestone Celebrations\\n               </a>\\n              </span>\\n             </span>\\n             <span class=\"views-field views-field-created\">\\n              <span class=\"field-content\">\\n               Thursday, June 4, 2015\\n              </span>\\n             </span>\\n            </div>\\n            <div class=\"views-row views-row-24 views-row-even\">\\n             <span class=\"views-field views-field-title\">\\n              <span class=\"field-content\">\\n               <a href=\"/web/20150913224145/http://www.newyorksocialdiary.com/party-pictures/2015/arf-pratt-institute-caron-city-college-center-for-the-arts-and-susan-g-komen\">\\n                ARF, Pratt Institute, Caron, City College Center for the Arts, and Susan G. Komen\\n               </a>\\n              </span>\\n             </span>\\n             <span class=\"views-field views-field-created\">\\n              <span class=\"field-content\">\\n               Monday, June 1, 2015\\n              </span>\\n             </span>\\n            </div>\\n            <div class=\"views-row views-row-25 views-row-odd\">\\n             <span class=\"views-field views-field-title\">\\n              <span class=\"field-content\">\\n               <a href=\"/web/20150913224145/http://www.newyorksocialdiary.com/party-pictures/2015/united-cerebral-palsy-the-opportunity-network-92nd-street-y-the-animal-medical\">\\n                United Cerebral Palsy, The Opportunity Network, 92nd Street Y, The Animal Medical Center, Parkinson\\'s Disease Foundation, and Bachmann-Strauss\\n               </a>\\n              </span>\\n             </span>\\n             <span class=\"views-field views-field-created\">\\n              <span class=\"field-content\">\\n               Wednesday, May 27, 2015\\n              </span>\\n             </span>\\n            </div>\\n            <div class=\"views-row views-row-26 views-row-even\">\\n             <span class=\"views-field views-field-title\">\\n              <span class=\"field-content\">\\n               <a href=\"/web/20150913224145/http://www.newyorksocialdiary.com/party-pictures/2015/la-belle-epoque\">\\n                La Belle Epoque\\n               </a>\\n              </span>\\n             </span>\\n             <span class=\"views-field views-field-created\">\\n              <span class=\"field-content\">\\n               Tuesday, May 26, 2015\\n              </span>\\n             </span>\\n            </div>\\n            <div class=\"views-row views-row-27 views-row-odd\">\\n             <span class=\"views-field views-field-title\">\\n              <span class=\"field-content\">\\n               <a href=\"/web/20150913224145/http://www.newyorksocialdiary.com/party-pictures/2015/el-museo-del-barrio-fountain-house-empowers-africa-and-gray-matters\">\\n                El Museo del Barrio, Fountain House, Empowers Africa, and  Gray Matters\\n               </a>\\n              </span>\\n             </span>\\n             <span class=\"views-field views-field-created\">\\n              <span class=\"field-content\">\\n               Friday, May 22, 2015\\n              </span>\\n             </span>\\n            </div>\\n            <div class=\"views-row views-row-28 views-row-even\">\\n             <span class=\"views-field views-field-title\">\\n              <span class=\"field-content\">\\n               <a href=\"/web/20150913224145/http://www.newyorksocialdiary.com/party-pictures/2015/spring-ahead\">\\n                Spring Ahead\\n               </a>\\n              </span>\\n             </span>\\n             <span class=\"views-field views-field-created\">\\n              <span class=\"field-content\">\\n               Tuesday, May 19, 2015\\n              </span>\\n             </span>\\n            </div>\\n            <div class=\"views-row views-row-29 views-row-odd\">\\n             <span class=\"views-field views-field-title\">\\n              <span class=\"field-content\">\\n               <a href=\"/web/20150913224145/http://www.newyorksocialdiary.com/party-pictures/2015/rockefeller-university-bal-des-berceaux-and-icaa\">\\n                Rockefeller University, Bal des Berceaux, and ICAA\\n               </a>\\n              </span>\\n             </span>\\n             <span class=\"views-field views-field-created\">\\n              <span class=\"field-content\">\\n               Monday, May 18, 2015\\n              </span>\\n             </span>\\n            </div>\\n            <div class=\"views-row views-row-30 views-row-even\">\\n             <span class=\"views-field views-field-title\">\\n              <span class=\"field-content\">\\n               <a href=\"/web/20150913224145/http://www.newyorksocialdiary.com/party-pictures/2015/nyc-ballet-masterpiece-london-pratt-institute-and-project-sunshine\">\\n                NYC Ballet, Masterpiece London, Pratt Institute, and Project Sunshine\\n               </a>\\n              </span>\\n             </span>\\n             <span class=\"views-field views-field-created\">\\n              <span class=\"field-content\">\\n               Friday, May 15, 2015\\n              </span>\\n             </span>\\n            </div>\\n            <div class=\"views-row views-row-31 views-row-odd\">\\n             <span class=\"views-field views-field-title\">\\n              <span class=\"field-content\">\\n               <a href=\"/web/20150913224145/http://www.newyorksocialdiary.com/party-pictures/2015/in-the-presence-of\">\\n                In the presence of ...\\n               </a>\\n              </span>\\n             </span>\\n             <span class=\"views-field views-field-created\">\\n              <span class=\"field-content\">\\n               Tuesday, May 12, 2015\\n              </span>\\n             </span>\\n            </div>\\n            <div class=\"views-row views-row-32 views-row-even\">\\n             <span class=\"views-field views-field-title\">\\n              <span class=\"field-content\">\\n               <a href=\"/web/20150913224145/http://www.newyorksocialdiary.com/party-pictures/2015/over-the-top-extravaganzas\">\\n                Over-the-top extravaganzas\\n               </a>\\n              </span>\\n             </span>\\n             <span class=\"views-field views-field-created\">\\n              <span class=\"field-content\">\\n               Friday, May 8, 2015\\n              </span>\\n             </span>\\n            </div>\\n            <div class=\"views-row views-row-33 views-row-odd\">\\n             <span class=\"views-field views-field-title\">\\n              <span class=\"field-content\">\\n               <a href=\"/web/20150913224145/http://www.newyorksocialdiary.com/party-pictures/2015/dpcs-take-at-the-33rd-annual-frederick-law-olmsted-awards-luncheon\">\\n                DPC\\'S take at the 33rd annual Frederick Law Olmsted Awards Luncheon\\n               </a>\\n              </span>\\n             </span>\\n             <span class=\"views-field views-field-created\">\\n              <span class=\"field-content\">\\n               Thursday, May 7, 2015\\n              </span>\\n             </span>\\n            </div>\\n            <div class=\"views-row views-row-34 views-row-even\">\\n             <span class=\"views-field views-field-title\">\\n              <span class=\"field-content\">\\n               <a href=\"/web/20150913224145/http://www.newyorksocialdiary.com/party-pictures/2015/hellos-and-goodbyes\">\\n                Hellos and Goodbyes\\n               </a>\\n              </span>\\n             </span>\\n             <span class=\"views-field views-field-created\">\\n              <span class=\"field-content\">\\n               Tuesday, May 5, 2015\\n              </span>\\n             </span>\\n            </div>\\n            <div class=\"views-row views-row-35 views-row-odd\">\\n             <span class=\"views-field views-field-title\">\\n              <span class=\"field-content\">\\n               <a href=\"/web/20150913224145/http://www.newyorksocialdiary.com/party-pictures/2015/women-of-distinction\">\\n                Women of Distinction\\n               </a>\\n              </span>\\n             </span>\\n             <span class=\"views-field views-field-created\">\\n              <span class=\"field-content\">\\n               Thursday, April 30, 2015\\n              </span>\\n             </span>\\n            </div>\\n            <div class=\"views-row views-row-36 views-row-even\">\\n             <span class=\"views-field views-field-title\">\\n              <span class=\"field-content\">\\n               <a href=\"/web/20150913224145/http://www.newyorksocialdiary.com/party-pictures/2015/nights-for-changing-lives\">\\n                Nights for Changing Lives\\n               </a>\\n              </span>\\n             </span>\\n             <span class=\"views-field views-field-created\">\\n              <span class=\"field-content\">\\n               Monday, April 27, 2015\\n              </span>\\n             </span>\\n            </div>\\n            <div class=\"views-row views-row-37 views-row-odd\">\\n             <span class=\"views-field views-field-title\">\\n              <span class=\"field-content\">\\n               <a href=\"/web/20150913224145/http://www.newyorksocialdiary.com/party-pictures/2015/il-piacere-dellamore\">\\n                Il Piacere dell’Amore\\n               </a>\\n              </span>\\n             </span>\\n             <span class=\"views-field views-field-created\">\\n              <span class=\"field-content\">\\n               Thursday, April 23, 2015\\n              </span>\\n             </span>\\n            </div>\\n            <div class=\"views-row views-row-38 views-row-even\">\\n             <span class=\"views-field views-field-title\">\\n              <span class=\"field-content\">\\n               <a href=\"/web/20150913224145/http://www.newyorksocialdiary.com/party-pictures/2015/masquerade-retrograde\">\\n                Masquerade Retrograde\\n               </a>\\n              </span>\\n             </span>\\n             <span class=\"views-field views-field-created\">\\n              <span class=\"field-content\">\\n               Wednesday, April 22, 2015\\n              </span>\\n             </span>\\n            </div>\\n            <div class=\"views-row views-row-39 views-row-odd\">\\n             <span class=\"views-field views-field-title\">\\n              <span class=\"field-content\">\\n               <a href=\"/web/20150913224145/http://www.newyorksocialdiary.com/party-pictures/2015/artists-and-writers-and-designers\">\\n                Artists and Writers and Designers\\n               </a>\\n              </span>\\n             </span>\\n             <span class=\"views-field views-field-created\">\\n              <span class=\"field-content\">\\n               Tuesday, April 21, 2015\\n              </span>\\n             </span>\\n            </div>\\n            <div class=\"views-row views-row-40 views-row-even\">\\n             <span class=\"views-field views-field-title\">\\n              <span class=\"field-content\">\\n               <a href=\"/web/20150913224145/http://www.newyorksocialdiary.com/party-pictures/2015/in-kind\">\\n                In Kind\\n               </a>\\n              </span>\\n             </span>\\n             <span class=\"views-field views-field-created\">\\n              <span class=\"field-content\">\\n               Friday, April 17, 2015\\n              </span>\\n             </span>\\n            </div>\\n            <div class=\"views-row views-row-41 views-row-odd\">\\n             <span class=\"views-field views-field-title\">\\n              <span class=\"field-content\">\\n               <a href=\"/web/20150913224145/http://www.newyorksocialdiary.com/party-pictures/2015/aspca-playground-partners-east-side-house-settlement-and-castle-connolly\">\\n                ASPCA, Playground Partners, East Side House Settlement, and Castle Connolly\\n               </a>\\n              </span>\\n             </span>\\n             <span class=\"views-field views-field-created\">\\n              <span class=\"field-content\">\\n               Monday, April 13, 2015\\n              </span>\\n             </span>\\n            </div>\\n            <div class=\"views-row views-row-42 views-row-even\">\\n             <span class=\"views-field views-field-title\">\\n              <span class=\"field-content\">\\n               <a href=\"/web/20150913224145/http://www.newyorksocialdiary.com/party-pictures/2015/el-museo-pdf-tusk-and-nyc-mission-society\">\\n                El Museo, PDF, Tusk, and NYC Mission Society\\n               </a>\\n              </span>\\n             </span>\\n             <span class=\"views-field views-field-created\">\\n              <span class=\"field-content\">\\n               Thursday, April 9, 2015\\n              </span>\\n             </span>\\n            </div>\\n            <div class=\"views-row views-row-43 views-row-odd\">\\n             <span class=\"views-field views-field-title\">\\n              <span class=\"field-content\">\\n               <a href=\"/web/20150913224145/http://www.newyorksocialdiary.com/party-pictures/2015/drifting-in-daylight\">\\n                Drifting in Daylight\\n               </a>\\n              </span>\\n             </span>\\n             <span class=\"views-field views-field-created\">\\n              <span class=\"field-content\">\\n               Monday, April 6, 2015\\n              </span>\\n             </span>\\n            </div>\\n            <div class=\"views-row views-row-44 views-row-even\">\\n             <span class=\"views-field views-field-title\">\\n              <span class=\"field-content\">\\n               <a href=\"/web/20150913224145/http://www.newyorksocialdiary.com/party-pictures/2015/the-art-of-fashion\">\\n                The Art of Fashion\\n               </a>\\n              </span>\\n             </span>\\n             <span class=\"views-field views-field-created\">\\n              <span class=\"field-content\">\\n               Friday, April 3, 2015\\n              </span>\\n             </span>\\n            </div>\\n            <div class=\"views-row views-row-45 views-row-odd\">\\n             <span class=\"views-field views-field-title\">\\n              <span class=\"field-content\">\\n               <a href=\"/web/20150913224145/http://www.newyorksocialdiary.com/party-pictures/2015/glitz-glamour\">\\n                Glitz &amp; Glamour\\n               </a>\\n              </span>\\n             </span>\\n             <span class=\"views-field views-field-created\">\\n              <span class=\"field-content\">\\n               Monday, March 30, 2015\\n              </span>\\n             </span>\\n            </div>\\n            <div class=\"views-row views-row-46 views-row-even\">\\n             <span class=\"views-field views-field-title\">\\n              <span class=\"field-content\">\\n               <a href=\"/web/20150913224145/http://www.newyorksocialdiary.com/party-pictures/2015/madoo-in-manhattan-pmp-in-palm-beach\">\\n                Madoo in Manhattan, PMP in Palm Beach\\n               </a>\\n              </span>\\n             </span>\\n             <span class=\"views-field views-field-created\">\\n              <span class=\"field-content\">\\n               Wednesday, March 25, 2015\\n              </span>\\n             </span>\\n            </div>\\n            <div class=\"views-row views-row-47 views-row-odd\">\\n             <span class=\"views-field views-field-title\">\\n              <span class=\"field-content\">\\n               <a href=\"/web/20150913224145/http://www.newyorksocialdiary.com/party-pictures/2015/love-heals\">\\n                Love Heals\\n               </a>\\n              </span>\\n             </span>\\n             <span class=\"views-field views-field-created\">\\n              <span class=\"field-content\">\\n               Friday, March 20, 2015\\n              </span>\\n             </span>\\n            </div>\\n            <div class=\"views-row views-row-48 views-row-even\">\\n             <span class=\"views-field views-field-title\">\\n              <span class=\"field-content\">\\n               <a href=\"/web/20150913224145/http://www.newyorksocialdiary.com/party-pictures/2015/citymeals-on-wheels-mount-sinai-hospital-un-women-for-peace-and-the-red-cross\">\\n                Citymeals-on-Wheels, Mount Sinai Hospital, UN Women for Peace, and the Red Cross Ball\\n               </a>\\n              </span>\\n             </span>\\n             <span class=\"views-field views-field-created\">\\n              <span class=\"field-content\">\\n               Wednesday, March 18, 2015\\n              </span>\\n             </span>\\n            </div>\\n            <div class=\"views-row views-row-49 views-row-odd\">\\n             <span class=\"views-field views-field-title\">\\n              <span class=\"field-content\">\\n               <a href=\"/web/20150913224145/http://www.newyorksocialdiary.com/party-pictures/2015/ripa-eight-over-eighty-trees-new-york-and-fabulous-at-any-age\">\\n                RIPA, Eight Over Eighty, Trees New York, and Fabulous at Any Age\\n               </a>\\n              </span>\\n             </span>\\n             <span class=\"views-field views-field-created\">\\n              <span class=\"field-content\">\\n               Tuesday, March 17, 2015\\n              </span>\\n             </span>\\n            </div>\\n            <div class=\"views-row views-row-50 views-row-even views-row-last\">\\n             <span class=\"views-field views-field-title\">\\n              <span class=\"field-content\">\\n               <a href=\"/web/20150913224145/http://www.newyorksocialdiary.com/party-pictures/2015/bunny-hop-the-boys-club-old-bags-and-more\">\\n                Bunny Hop, The Boys\\' Club, Old Bags, and more ...\\n               </a>\\n              </span>\\n             </span>\\n             <span class=\"views-field views-field-created\">\\n              <span class=\"field-content\">\\n               Friday, March 13, 2015\\n              </span>\\n             </span>\\n            </div>\\n           </div>\\n           <h2 class=\"element-invisible\">\\n            Pages\\n           </h2>\\n           <ul class=\"pager\">\\n            <li class=\"pager__item pager__item--current\">\\n             1\\n            </li>\\n            <li class=\"pager__item\">\\n             <a href=\"/web/20150913224145/http://www.newyorksocialdiary.com/party-pictures?page=1\" title=\"Go to page 2\">\\n              2\\n             </a>\\n            </li>\\n            <li class=\"pager__item\">\\n             <a href=\"/web/20150913224145/http://www.newyorksocialdiary.com/party-pictures?page=2\" title=\"Go to page 3\">\\n              3\\n             </a>\\n            </li>\\n            <li class=\"pager__item\">\\n             <a href=\"/web/20150913224145/http://www.newyorksocialdiary.com/party-pictures?page=3\" title=\"Go to page 4\">\\n              4\\n             </a>\\n            </li>\\n            <li class=\"pager__item\">\\n             <a href=\"/web/20150913224145/http://www.newyorksocialdiary.com/party-pictures?page=4\" title=\"Go to page 5\">\\n              5\\n             </a>\\n            </li>\\n            <li class=\"pager__item\">\\n             <a href=\"/web/20150913224145/http://www.newyorksocialdiary.com/party-pictures?page=5\" title=\"Go to page 6\">\\n              6\\n             </a>\\n            </li>\\n            <li class=\"pager__item\">\\n             <a href=\"/web/20150913224145/http://www.newyorksocialdiary.com/party-pictures?page=6\" title=\"Go to page 7\">\\n              7\\n             </a>\\n            </li>\\n            <li class=\"pager__item\">\\n             <a href=\"/web/20150913224145/http://www.newyorksocialdiary.com/party-pictures?page=7\" title=\"Go to page 8\">\\n              8\\n             </a>\\n            </li>\\n            <li class=\"pager__item\">\\n             <a href=\"/web/20150913224145/http://www.newyorksocialdiary.com/party-pictures?page=8\" title=\"Go to page 9\">\\n              9\\n             </a>\\n            </li>\\n            <li class=\"pager__item pager__item--ellipsis\">\\n             …\\n            </li>\\n            <li class=\"pager__item pager__item--next\">\\n             <a href=\"/web/20150913224145/http://www.newyorksocialdiary.com/party-pictures?page=1\" title=\"Go to next page\">\\n              next ›\\n             </a>\\n            </li>\\n            <li class=\"pager__item pager__item--last\">\\n             <a href=\"/web/20150913224145/http://www.newyorksocialdiary.com/party-pictures?page=25\" title=\"Go to last page\">\\n              last »\\n             </a>\\n            </li>\\n           </ul>\\n          </div>\\n         </div>\\n        </div>\\n       </div>\\n      </div>\\n     </div>\\n    </div>\\n    <div class=\"l-region l-region--sidebar\">\\n     <div class=\"panel-pane pane-ad pane-2 adverserve-ad advertserve-2\">\\n      <!-- BEGIN ADVERTPRO CODE BLOCK -->\\n      <script type=\"text/javascript\">\\n       document.write(\\'<scr\\' + \\'ipt src=\"https://web.archive.org/web/20150913224145/http://newyorksocialdiary.advertserve.com/servlet/view/banner/javascript/zone?zid=2&pid=0&random=\\' + Math.floor(89999999 * Math.random() + 10000000) + \\'&millis=\\' + new Date().getTime() + \\'&referrer=\\' + encodeURIComponent(document.location) + \\'\" type=\"text/javascript\"></scr\\' + \\'ipt>\\');\\n      </script>\\n      <!-- END ADVERTPRO CODE BLOCK -->\\n     </div>\\n     <div class=\"panel-pane pane-ad pane-2 adverserve-ad advertserve-2\">\\n      <!-- BEGIN ADVERTPRO CODE BLOCK -->\\n      <script type=\"text/javascript\">\\n       document.write(\\'<scr\\' + \\'ipt src=\"https://web.archive.org/web/20150913224145/http://newyorksocialdiary.advertserve.com/servlet/view/banner/javascript/zone?zid=2&pid=0&random=\\' + Math.floor(89999999 * Math.random() + 10000000) + \\'&millis=\\' + new Date().getTime() + \\'&referrer=\\' + encodeURIComponent(document.location) + \\'\" type=\"text/javascript\"></scr\\' + \\'ipt>\\');\\n      </script>\\n      <!-- END ADVERTPRO CODE BLOCK -->\\n     </div>\\n     <div class=\"panel-pane pane-ad pane-2 adverserve-ad advertserve-2\">\\n      <!-- BEGIN ADVERTPRO CODE BLOCK -->\\n      <script type=\"text/javascript\">\\n       document.write(\\'<scr\\' + \\'ipt src=\"https://web.archive.org/web/20150913224145/http://newyorksocialdiary.advertserve.com/servlet/view/banner/javascript/zone?zid=2&pid=0&random=\\' + Math.floor(89999999 * Math.random() + 10000000) + \\'&millis=\\' + new Date().getTime() + \\'&referrer=\\' + encodeURIComponent(document.location) + \\'\" type=\"text/javascript\"></scr\\' + \\'ipt>\\');\\n      </script>\\n      <!-- END ADVERTPRO CODE BLOCK -->\\n     </div>\\n     <div class=\"panel-pane pane-ad pane-2 adverserve-ad advertserve-2\">\\n      <!-- BEGIN ADVERTPRO CODE BLOCK -->\\n      <script type=\"text/javascript\">\\n       document.write(\\'<scr\\' + \\'ipt src=\"https://web.archive.org/web/20150913224145/http://newyorksocialdiary.advertserve.com/servlet/view/banner/javascript/zone?zid=2&pid=0&random=\\' + Math.floor(89999999 * Math.random() + 10000000) + \\'&millis=\\' + new Date().getTime() + \\'&referrer=\\' + encodeURIComponent(document.location) + \\'\" type=\"text/javascript\"></scr\\' + \\'ipt>\\');\\n      </script>\\n      <!-- END ADVERTPRO CODE BLOCK -->\\n     </div>\\n     <div class=\"panel-pane pane-ad pane-2 adverserve-ad advertserve-2\">\\n      <!-- BEGIN ADVERTPRO CODE BLOCK -->\\n      <script type=\"text/javascript\">\\n       document.write(\\'<scr\\' + \\'ipt src=\"https://web.archive.org/web/20150913224145/http://newyorksocialdiary.advertserve.com/servlet/view/banner/javascript/zone?zid=2&pid=0&random=\\' + Math.floor(89999999 * Math.random() + 10000000) + \\'&millis=\\' + new Date().getTime() + \\'&referrer=\\' + encodeURIComponent(document.location) + \\'\" type=\"text/javascript\"></scr\\' + \\'ipt>\\');\\n      </script>\\n      <!-- END ADVERTPRO CODE BLOCK -->\\n     </div>\\n     <div class=\"panel-pane pane-ad pane-4 adverserve-ad advertserve-4\">\\n      <!-- BEGIN ADVERTPRO CODE BLOCK -->\\n      <script type=\"text/javascript\">\\n       document.write(\\'<scr\\' + \\'ipt src=\"https://web.archive.org/web/20150913224145/http://newyorksocialdiary.advertserve.com/servlet/view/banner/javascript/zone?zid=4&pid=0&random=\\' + Math.floor(89999999 * Math.random() + 10000000) + \\'&millis=\\' + new Date().getTime() + \\'&referrer=\\' + encodeURIComponent(document.location) + \\'\" type=\"text/javascript\"></scr\\' + \\'ipt>\\');\\n      </script>\\n      <!-- END ADVERTPRO CODE BLOCK -->\\n     </div>\\n     <div class=\"panel-pane pane-ad pane-4 adverserve-ad advertserve-4\">\\n      <!-- BEGIN ADVERTPRO CODE BLOCK -->\\n      <script type=\"text/javascript\">\\n       document.write(\\'<scr\\' + \\'ipt src=\"https://web.archive.org/web/20150913224145/http://newyorksocialdiary.advertserve.com/servlet/view/banner/javascript/zone?zid=4&pid=0&random=\\' + Math.floor(89999999 * Math.random() + 10000000) + \\'&millis=\\' + new Date().getTime() + \\'&referrer=\\' + encodeURIComponent(document.location) + \\'\" type=\"text/javascript\"></scr\\' + \\'ipt>\\');\\n      </script>\\n      <!-- END ADVERTPRO CODE BLOCK -->\\n     </div>\\n     <div class=\"panel-pane pane-ad pane-4 adverserve-ad advertserve-4\">\\n      <!-- BEGIN ADVERTPRO CODE BLOCK -->\\n      <script type=\"text/javascript\">\\n       document.write(\\'<scr\\' + \\'ipt src=\"https://web.archive.org/web/20150913224145/http://newyorksocialdiary.advertserve.com/servlet/view/banner/javascript/zone?zid=4&pid=0&random=\\' + Math.floor(89999999 * Math.random() + 10000000) + \\'&millis=\\' + new Date().getTime() + \\'&referrer=\\' + encodeURIComponent(document.location) + \\'\" type=\"text/javascript\"></scr\\' + \\'ipt>\\');\\n      </script>\\n      <!-- END ADVERTPRO CODE BLOCK -->\\n     </div>\\n    </div>\\n    <div class=\"l-footer-wrapper\" role=\"contentinfo\">\\n     <div class=\"l-region l-region--footer\">\\n      <div class=\"panel-pane pane-ad pane-14 adverserve-ad advertserve-14\">\\n       <!-- BEGIN ADVERTPRO CODE BLOCK -->\\n       <script type=\"text/javascript\">\\n        document.write(\\'<scr\\' + \\'ipt src=\"https://web.archive.org/web/20150913224145/http://newyorksocialdiary.advertserve.com/servlet/view/banner/javascript/zone?zid=14&pid=0&random=\\' + Math.floor(89999999 * Math.random() + 10000000) + \\'&millis=\\' + new Date().getTime() + \\'&referrer=\\' + encodeURIComponent(document.location) + \\'\" type=\"text/javascript\"></scr\\' + \\'ipt>\\');\\n       </script>\\n       <!-- END ADVERTPRO CODE BLOCK -->\\n      </div>\\n      <div class=\"panel-pane pane-ad pane-14 adverserve-ad advertserve-14\">\\n       <!-- BEGIN ADVERTPRO CODE BLOCK -->\\n       <script type=\"text/javascript\">\\n        document.write(\\'<scr\\' + \\'ipt src=\"https://web.archive.org/web/20150913224145/http://newyorksocialdiary.advertserve.com/servlet/view/banner/javascript/zone?zid=14&pid=0&random=\\' + Math.floor(89999999 * Math.random() + 10000000) + \\'&millis=\\' + new Date().getTime() + \\'&referrer=\\' + encodeURIComponent(document.location) + \\'\" type=\"text/javascript\"></scr\\' + \\'ipt>\\');\\n       </script>\\n       <!-- END ADVERTPRO CODE BLOCK -->\\n      </div>\\n      <div class=\"panel-pane pane-ad pane-14 adverserve-ad advertserve-14\">\\n       <!-- BEGIN ADVERTPRO CODE BLOCK -->\\n       <script type=\"text/javascript\">\\n        document.write(\\'<scr\\' + \\'ipt src=\"https://web.archive.org/web/20150913224145/http://newyorksocialdiary.advertserve.com/servlet/view/banner/javascript/zone?zid=14&pid=0&random=\\' + Math.floor(89999999 * Math.random() + 10000000) + \\'&millis=\\' + new Date().getTime() + \\'&referrer=\\' + encodeURIComponent(document.location) + \\'\" type=\"text/javascript\"></scr\\' + \\'ipt>\\');\\n       </script>\\n       <!-- END ADVERTPRO CODE BLOCK -->\\n      </div>\\n      <div class=\"panel-pane pane-ad pane-14 adverserve-ad advertserve-14\">\\n       <!-- BEGIN ADVERTPRO CODE BLOCK -->\\n       <script type=\"text/javascript\">\\n        document.write(\\'<scr\\' + \\'ipt src=\"https://web.archive.org/web/20150913224145/http://newyorksocialdiary.advertserve.com/servlet/view/banner/javascript/zone?zid=14&pid=0&random=\\' + Math.floor(89999999 * Math.random() + 10000000) + \\'&millis=\\' + new Date().getTime() + \\'&referrer=\\' + encodeURIComponent(document.location) + \\'\" type=\"text/javascript\"></scr\\' + \\'ipt>\\');\\n       </script>\\n       <!-- END ADVERTPRO CODE BLOCK -->\\n      </div>\\n      <div class=\"panel-pane pane-ad pane-14 adverserve-ad advertserve-14\">\\n       <!-- BEGIN ADVERTPRO CODE BLOCK -->\\n       <script type=\"text/javascript\">\\n        document.write(\\'<scr\\' + \\'ipt src=\"https://web.archive.org/web/20150913224145/http://newyorksocialdiary.advertserve.com/servlet/view/banner/javascript/zone?zid=14&pid=0&random=\\' + Math.floor(89999999 * Math.random() + 10000000) + \\'&millis=\\' + new Date().getTime() + \\'&referrer=\\' + encodeURIComponent(document.location) + \\'\" type=\"text/javascript\"></scr\\' + \\'ipt>\\');\\n       </script>\\n       <!-- END ADVERTPRO CODE BLOCK -->\\n      </div>\\n     </div>\\n    </div>\\n   </div>\\n   <div class=\"l-page-suffix\">\\n    <div class=\"l-region l-region--page-suffix\">\\n     <div class=\"panel-pane pane-block pane-menu-menu-footer\">\\n      <ul class=\"menu\">\\n       <li class=\"first leaf\">\\n        <a href=\"/web/20150913224145/http://www.newyorksocialdiary.com/newsletter\" title=\"Subscribe or unsubscribe to the newsletter.\">\\n         Subscribe/Unsubscribe\\n        </a>\\n       </li>\\n       <li class=\"last leaf\">\\n        <a href=\"https://web.archive.org/web/20150913224145/http://newyorksocialdiary.com/legacy/layouts/nysdratecard2013_norates.html\" title=\"\">\\n         Advertise\\n        </a>\\n       </li>\\n      </ul>\\n     </div>\\n     <div class=\"panel-pane pane-custom pane-2\">\\n      (c) 2014 David Patrick Columbia &amp; Jeffrey Hirsch/NewYorkSocialDiary.com\\n     </div>\\n    </div>\\n   </div>\\n  </div>\\n  <!-- Start of StatCounter Code for Default Guide -->\\n  <script type=\"text/javascript\">\\n   var sc_project = 383967;\\nvar sc_invisible = 1;\\nvar sc_security = \\'\\';\\nvar sc_https = 1;\\nvar sc_remove_link = 1;\\nvar scJsHost = ((\"https:\" == document.location.protocol) ? \"https://web.archive.org/web/20150913224145/https://secure./\" : \"https://web.archive.org/web/20150913224145/http://www./\");\\ndocument.write(\"<sc\" + \"ript type=\\'text/javascript\\' src=\\'\" + scJsHost + \"statcounter.com/counter/counter.js\\'></\" + \"script>\");\\n  </script>\\n  <noscript>\\n   <div class=\"statcounter\">\\n    <img alt=\"free web stats\" class=\"statcounter\" src=\"https://web.archive.org/web/20150913224145im_/http://c.statcounter.com/383967/0//1/\"/>\\n   </div>\\n  </noscript>\\n  <!-- End of StatCounter Code for Default Guide -->\\n </body>\\n</html>\\n'"
      ]
     },
     "execution_count": 5,
     "metadata": {},
     "output_type": "execute_result"
    }
   ],
   "source": [
    "soup = BeautifulSoup(page.text, \"lxml\")\n",
    "soup.prettify()"
   ]
  },
  {
   "cell_type": "markdown",
   "metadata": {},
   "source": [
    "This page has links to 50 party pages. Look at the structure of the page and determine how to isolate those links.  Your browser's developer tools (usually `Cmd`-`Option`-`I` on Mac, `Ctrl`-`Shift`-`I` on others) offer helpful tools to explore the structure of the HTML page.\n",
    "\n",
    "Once you have found a pattern, use BeautifulSoup's [select](https://www.crummy.com/software/BeautifulSoup/bs4/doc/#css-selectors) or [find_all](https://www.crummy.com/software/BeautifulSoup/bs4/doc/#find) methods to get those elements."
   ]
  },
  {
   "cell_type": "code",
   "execution_count": 6,
   "metadata": {},
   "outputs": [
    {
     "data": {
      "text/plain": [
       "50"
      ]
     },
     "execution_count": 6,
     "metadata": {},
     "output_type": "execute_result"
    }
   ],
   "source": [
    "links = soup.find_all('div', attrs={'class':'views-row'})\n",
    "len(links)"
   ]
  },
  {
   "cell_type": "markdown",
   "metadata": {},
   "source": [
    "There should be 50 per page."
   ]
  },
  {
   "cell_type": "code",
   "execution_count": 7,
   "metadata": {},
   "outputs": [],
   "source": [
    "assert len(links) == 50"
   ]
  },
  {
   "cell_type": "markdown",
   "metadata": {},
   "source": [
    "Let's take a look at that first link.  Figure out how to extract the URL of the link, as well as the date.  You probably want to use `datetime.strptime`.  See the [format codes for dates](https://docs.python.org/3/library/datetime.html#strftime-and-strptime-behavior) for reference."
   ]
  },
  {
   "cell_type": "code",
   "execution_count": 8,
   "metadata": {},
   "outputs": [
    {
     "data": {
      "text/plain": [
       "'<div class=\"views-row views-row-1 views-row-odd views-row-first\">\\n <span class=\"views-field views-field-title\">\\n  <span class=\"field-content\">\\n   <a href=\"/web/20150913224145/http://www.newyorksocialdiary.com/party-pictures/2015/kicks-offs-sing-offs-and-pro-ams\">\\n    Kicks offs, sing offs, and pro ams\\n   </a>\\n  </span>\\n </span>\\n <span class=\"views-field views-field-created\">\\n  <span class=\"field-content\">\\n   Friday, September 11, 2015\\n  </span>\\n </span>\\n</div>\\n'"
      ]
     },
     "execution_count": 8,
     "metadata": {},
     "output_type": "execute_result"
    }
   ],
   "source": [
    "link = links[0]\n",
    "# Check that the title and date match what you see visually.\n",
    "link.prettify()"
   ]
  },
  {
   "cell_type": "markdown",
   "metadata": {},
   "source": [
    "For purposes of code reuse, let's put that logic into a function.  It should take the link element and return the URL and date parsed from it."
   ]
  },
  {
   "cell_type": "code",
   "execution_count": 9,
   "metadata": {},
   "outputs": [],
   "source": [
    "def get_link_date(el):\n",
    "    url = el.select('a')[0]['href']\n",
    "    date = datetime.strptime(el.select('span')[-1].text, \"%A, %B %d, %Y\")\n",
    "    return url, date"
   ]
  },
  {
   "cell_type": "markdown",
   "metadata": {},
   "source": [
    "You may want to check that it works as you expected.\n",
    "\n",
    "Once that's working, let's write another function to parse all of the links on a page.  Thinking ahead, we can make it take a Requests [Response](http://docs.python-requests.org/en/master/api/#requests.Response) object and do the BeautifulSoup parsing within it."
   ]
  },
  {
   "cell_type": "code",
   "execution_count": 10,
   "metadata": {},
   "outputs": [],
   "source": [
    "def get_links(response):\n",
    "    soup = BeautifulSoup(response.text, \"lxml\")\n",
    "    links = soup.find_all('div', attrs={'class':'views-row'})\n",
    "    return list(get_link_date(link) for link in links) # A list of URL, date pairs"
   ]
  },
  {
   "cell_type": "markdown",
   "metadata": {},
   "source": [
    "If we run this on the previous response, we should get 50 pairs."
   ]
  },
  {
   "cell_type": "code",
   "execution_count": 11,
   "metadata": {},
   "outputs": [],
   "source": [
    "assert len(get_links(page)) == 50"
   ]
  },
  {
   "cell_type": "markdown",
   "metadata": {},
   "source": [
    "But we only want parties with dates on or before the first of December, 2014.  Let's write a function to filter our list of dates to those at or before a cutoff.  Using a keyword argument, we can put in a default cutoff, but allow us to test with others."
   ]
  },
  {
   "cell_type": "code",
   "execution_count": 12,
   "metadata": {},
   "outputs": [],
   "source": [
    "def filter_by_date(links, cutoff=datetime(2014, 12, 1)):\n",
    "    # Return only the elements with date <= cutoff\n",
    "    return list(filter(lambda x: x[1] <= cutoff, links))"
   ]
  },
  {
   "cell_type": "markdown",
   "metadata": {},
   "source": [
    "With the default cutoff, there should be no valid parties on the first page.  Adjust the cutoff date to check that it is actually working."
   ]
  },
  {
   "cell_type": "code",
   "execution_count": 13,
   "metadata": {},
   "outputs": [],
   "source": [
    "assert len(filter_by_date(get_links(page))) == 0"
   ]
  },
  {
   "cell_type": "markdown",
   "metadata": {},
   "source": [
    "Now we should be ready to get all of the party URLs.  Click through a few of the index pages to determine how the URL changes.  Figure out a strategy to visit all of them.\n",
    "\n",
    "HTTP requests are generally IO-bound.  This means that most of the time is spent waiting for the remote server to respond.  If you use `requests` directly, you can only wait on one response at a time.  [requests-futures](https://github.com/ross/requests-futures) lets you wait for multiple requests at a time.  You may wish to use this to speed up the downloading process."
   ]
  },
  {
   "cell_type": "code",
   "execution_count": 14,
   "metadata": {},
   "outputs": [],
   "source": [
    "from requests_futures.sessions import FuturesSession\n",
    "\n",
    "link_list = []\n",
    "# You can use link_list.extend(others) to add the elements of others\n",
    "# to link_list.\n",
    "LIMIT = 26\n",
    "def get_page_args(i):\n",
    "    return {\"url\": \"https://web.archive.org/web/20150913224145/http://www.newyorksocialdiary.com/party-pictures/\",\n",
    "            \"params\": {\"page\": i}}\n",
    "\n",
    "session = FuturesSession(max_workers=5)\n",
    "futures = [session.get(**get_page_args(i)) for i in range(1, LIMIT)]\n",
    "\n",
    "for future in futures:\n",
    "    link_list.extend(filter_by_date(get_links(future.result())))"
   ]
  },
  {
   "cell_type": "markdown",
   "metadata": {},
   "source": [
    "In the end, you should have 1193 parties."
   ]
  },
  {
   "cell_type": "code",
   "execution_count": 15,
   "metadata": {},
   "outputs": [],
   "source": [
    "assert len(link_list) == 1193"
   ]
  },
  {
   "cell_type": "markdown",
   "metadata": {},
   "source": [
    "In case we need to restart the notebook, we should save this information to a file.  There are many ways you could do this; here's one using `dill`."
   ]
  },
  {
   "cell_type": "code",
   "execution_count": 16,
   "metadata": {},
   "outputs": [],
   "source": [
    "dill.dump(link_list, open('nysd-links.pkd', 'wb'))"
   ]
  },
  {
   "cell_type": "markdown",
   "metadata": {},
   "source": [
    "To restore the list, we can just load it from the file.  When the notebook is restarted, you can skip the code above and just run this command."
   ]
  },
  {
   "cell_type": "code",
   "execution_count": 17,
   "metadata": {},
   "outputs": [],
   "source": [
    "link_list = dill.load(open('nysd-links.pkd', 'rb'))"
   ]
  },
  {
   "cell_type": "markdown",
   "metadata": {},
   "source": [
    "## Question 1: histogram\n"
   ]
  },
  {
   "cell_type": "markdown",
   "metadata": {},
   "source": [
    "Get the number of party pages for the 95 months (that is, month-year pair) in the data.  Represent this histogram as a list of 95 tuples, each of the form `(\"Dec-2014\", 1)`.  Note that you can convert `datetime` objects into these sort of strings with `strftime` and the [format codes for dates](https://docs.python.org/3/library/datetime.html#strftime-and-strptime-behavior).\n",
    "\n",
    "Plot the histogram for yourself.  Do you see any trends?"
   ]
  },
  {
   "cell_type": "code",
   "execution_count": 18,
   "metadata": {},
   "outputs": [],
   "source": [
    "from collections import Counter\n",
    "\n",
    "date_ls = Counter(list(link[1].strftime(\"%b-%Y\") for link in link_list))\n",
    "histogram = list(zip(date_ls.keys(), date_ls.values()))"
   ]
  },
  {
   "cell_type": "code",
   "execution_count": 19,
   "metadata": {},
   "outputs": [
    {
     "name": "stdout",
     "output_type": "stream",
     "text": [
      "==================\n",
      "Your score:  0.9789473684210537\n",
      "==================\n"
     ]
    }
   ],
   "source": [
    "grader.score('graph__histogram', histogram)"
   ]
  },
  {
   "cell_type": "markdown",
   "metadata": {},
   "source": [
    "## Phase Two\n"
   ]
  },
  {
   "cell_type": "markdown",
   "metadata": {},
   "source": [
    "In this phase, we we concentrate on getting the names out of captions for a given page.  We'll start with [the benefit cocktails and dinner](http://www.newyorksocialdiary.com/party-pictures/2015/celebrating-the-neighborhood) for [Lenox Hill Neighborhood House](http://www.lenoxhill.org/), a neighborhood organization for the East Side.\n",
    "\n",
    "Take a look at that page.  Note that some of the text on the page is captions, but others are descriptions of the event.  Determine how to select only the captions."
   ]
  },
  {
   "cell_type": "code",
   "execution_count": 36,
   "metadata": {},
   "outputs": [],
   "source": [
    "page = requests.get(\"https://web.archive.org/web/20151114014941/http://www.newyorksocialdiary.com/party-pictures/2015/celebrating-the-neighborhood\")\n",
    "soup = BeautifulSoup(page.text, \"lxml\")\n",
    "captions = [caption.text for caption in soup.find_all(attrs={'class':'photocaption'})]"
   ]
  },
  {
   "cell_type": "markdown",
   "metadata": {},
   "source": [
    "By our count, there are about 110.  But if you're off by a couple, you're probably okay."
   ]
  },
  {
   "cell_type": "code",
   "execution_count": 37,
   "metadata": {},
   "outputs": [],
   "source": [
    "assert abs(len(captions) - 110) < 5"
   ]
  },
  {
   "cell_type": "markdown",
   "metadata": {},
   "source": [
    "Let's encapsulate this in a function.  As with the links pages, we want to avoid downloading a given page the next time we need to run the notebook.  While we could save the files by hand, as we did before, a checkpoint library like [ediblepickle](https://pypi.python.org/pypi/ediblepickle/1.1.3) can handle this for you.  (Note, though, that you may not want to enable this until you are sure that your function is working.)\n",
    "\n",
    "You should also keep in mind that HTTP requests fail occasionally, for transient reasons.  You should plan how to detect and react to these failures.   The [retrying module](https://pypi.python.org/pypi/retrying) is one way to deal with this."
   ]
  },
  {
   "cell_type": "code",
   "execution_count": 45,
   "metadata": {},
   "outputs": [],
   "source": [
    "import os\n",
    "\n",
    "cache_dir = 'cache'\n",
    "if not os.path.exists(cache_dir):\n",
    "    os.mkdir(cache_dir)\n",
    "    \n",
    "def process_link(page):\n",
    "    soup = BeautifulSoup(page.text, \"lxml\")\n",
    "    captions = [caption.text for caption in soup.find_all(attrs={'class':'photocaption'})]\n",
    "    return captions\n",
    "\n",
    "def get_captions(path):\n",
    "#     if os.path.exists('cache/' + path)\n",
    "    captions = []\n",
    "    if isinstance(path, str):\n",
    "        path = [path]\n",
    "    # multiprocessing\n",
    "    base_url = \"https://web.archive.org/web/20151114014941/http://www.newyorksocialdiary.com\"\n",
    "    session = FuturesSession(max_workers=5)\n",
    "    futures = [session.get(base_url + p) for p in path]\n",
    "    # page = requests.get(\"https://web.archive.org/web/20151114014941/http://www.newyorksocialdiary.com\" + path)\n",
    "#     soup = BeautifulSoup(page.text, \"lxml\")\n",
    "#     captions = soup.find_all(attrs={'class':'photocaption'})\n",
    "    for future in futures:\n",
    "        captions.extend(process_link(future.result()))\n",
    "    return captions"
   ]
  },
  {
   "cell_type": "markdown",
   "metadata": {},
   "source": [
    "This should get the same captions as before."
   ]
  },
  {
   "cell_type": "code",
   "execution_count": 47,
   "metadata": {},
   "outputs": [],
   "source": [
    "assert captions == get_captions(\"/party-pictures/2015/celebrating-the-neighborhood\")"
   ]
  },
  {
   "cell_type": "markdown",
   "metadata": {},
   "source": [
    "Now that we have some sample captions, let's start parsing names out of those captions.  There are many ways of going about this, and we leave the details up to you.  Some issues to consider:\n",
    "\n",
    "  1. Some captions are not useful: they contain long narrative texts that explain the event.  Try to find some heuristic rules to separate captions that are a list of names from those that are not.  A few heuristics include:\n",
    "    - look for sentences (which have verbs) and as opposed to lists of nouns. For example, [`nltk` does part of speech tagging](http://www.nltk.org/book/ch05.html) but it is a little slow. There may also be heuristics that accomplish the same thing.\n",
    "    - Similarly, spaCy's [entity recognition](https://spacy.io/docs/usage/entity-recognition) could be useful here.\n",
    "    - Look for commonly repeated threads (e.g. you might end up picking up the photo credits or people such as \"a friend\").\n",
    "    - Long captions are often not lists of people.  The cutoff is subjective, but for grading purposes, *set that cutoff at 250 characters*.\n",
    "  2. You will want to separate the captions based on various forms of punctuation.  Try using `re.split`, which is more sophisticated than `string.split`. **Note**: The reference solution uses regex exclusively for name parsing.\n",
    "  3. You might find a person named \"ra Lebenthal\".  There is no one by this name.  Can anyone spot what's happening here?\n",
    "  4. This site is pretty formal and likes to say things like \"Mayor Michael Bloomberg\" after his election but \"Michael Bloomberg\" before his election.  Can you find other ('optional') titles that are being used?  They should probably be filtered out because they ultimately refer to the same person: \"Michael Bloomberg.\"\n",
    "  5. There is a special case you might find where couples are written as eg. \"John and Mary Smith\". You will need to write some extra logic to make sure this properly parses to two names: \"John Smith\" and \"Mary Smith\".\n",
    "  6. When parsing names from captions, it can help to look at your output frequently and address the problems that you see coming up, iterating until you have a list that looks reasonable. This is the approach used in the reference solution. Because we can only asymptotically approach perfect identification and entity matching, we have to stop somewhere.\n",
    "  \n",
    "**Questions worth considering:**\n",
    "  1. Who is Patrick McMullan and should he be included in the results? How would you address this?\n",
    "  2. What else could you do to improve the quality of the graph's information?"
   ]
  },
  {
   "cell_type": "code",
   "execution_count": 208,
   "metadata": {},
   "outputs": [
    {
     "data": {
      "text/plain": [
       "\"Glenn Adamson, Simon Doonan, Victoire de Castellane, Craig Leavitt, Jerome Chazen, Andi Potamkin, Ralph Pucci, Kirsten Bailey, Edwin Hathaway, and Dennis Freedman at the Museum of Art and Design's annual MAD BALL. \""
      ]
     },
     "execution_count": 208,
     "metadata": {},
     "output_type": "execute_result"
    }
   ],
   "source": [
    "text = captions[0].text\n",
    "text"
   ]
  },
  {
   "cell_type": "code",
   "execution_count": 56,
   "metadata": {},
   "outputs": [],
   "source": [
    "import re\n",
    "\n",
    "def strip_names(text):\n",
    "    name_ls = []\n",
    "    sentence = [s.strip() for s in text.split('.')]\n",
    "    \n",
    "    for s in sentence:\n",
    "        # fisrt last\n",
    "        pattern = re.findall(r\"([A-Z][a-z]+) ([A-Z][A-Za-z\\-]+)\", s)\n",
    "        name_ls.extend([p for p in pattern])\n",
    "\n",
    "        # first1 and first2 last\n",
    "        pattern = re.findall(r\"^([A-Z]*)([A-Z][a-z]+) and ([A-Z]*)([A-Z][a-z]+) ([A-Z][A-Za-z\\-]+)\", s)\n",
    "        name_ls.extend([(p[1], p[-1]) for p in pattern])\n",
    "\n",
    "        # first middle last\n",
    "        pattern = re.findall(r\"([A-Z][a-z]\\w+) ([A-Z][a-z]+) ([A-Z][A-Za-z\\-]+)\", s)\n",
    "        name_ls.extend([p for p in pattern])\n",
    "    #     for p in pattern:\n",
    "    #         if (p[0] in ['Mayor']) or (p[0][-1] == '.'):\n",
    "    #             name_ls.extend([(p[1], p[2])])\n",
    "    #         else:\n",
    "    #             name_ls.extend([p])\n",
    "\n",
    "        # first special last\n",
    "        pattern = re.findall(r\"([A-Z][a-z]+) de ([A-Z][a-z]\\w+)\", s)\n",
    "        name_ls.extend([(p[0], 'de', p[1]) for p in pattern])\n",
    "    \n",
    "    return [' '.join(name) for name in name_ls]\n",
    "\n",
    "def delete_duplicate(ls):\n",
    "    # excluding partial names\n",
    "    for name in ls:\n",
    "        if len(name.split()) == 3:\n",
    "            first_two = ' '.join(name.split()[:2])\n",
    "            second_two = ' '.join(name.split()[1:])\n",
    "            #third_two = name.split()[0] + ' ' + name.split()[2]\n",
    "            for dup in [first_two, second_two]:\n",
    "                if dup in ls:\n",
    "                    index = ls.index(dup)\n",
    "                    ls.pop(index)\n",
    "\n",
    "    # excluding non-people names and Pre-fix\n",
    "    new_ls = []\n",
    "    for i in range(len(ls)):\n",
    "        name = ls[i]\n",
    "        # remove some unusual words\n",
    "        remove_ls = ['New York', 'Director', 'Member', 'Gala', 'The', 'Row', \\\n",
    "                     'Committee', 'President', 'Special', 'Los Angeles', 'Tory Burch', \\\n",
    "                    'City', 'New']\n",
    "        regular = True\n",
    "        for w in remove_ls:\n",
    "            if name.find(w) != -1:\n",
    "                regular = False\n",
    "                break\n",
    "\n",
    "        if regular:\n",
    "            if name.split()[0] in ['Mayor', 'Dr.', 'Prof.']:\n",
    "                new_ls.append(' '.join(name.split()[1:]))\n",
    "            else:\n",
    "                new_ls.append(name)\n",
    "    \n",
    "    return new_ls"
   ]
  },
  {
   "cell_type": "code",
   "execution_count": 57,
   "metadata": {},
   "outputs": [
    {
     "data": {
      "text/plain": [
       "['Dustin Hoffman',\n",
       " 'Jack NiCholson',\n",
       " 'Mark Chris',\n",
       " 'Christopher Spitzmiller',\n",
       " 'Diana Quasha',\n",
       " 'Mary Nicholson',\n",
       " 'Jack Nicholson',\n",
       " 'Mark Chris',\n",
       " 'Diana de Quasha',\n",
       " 'Patrick McMullen',\n",
       " 'Jane McMullen',\n",
       " 'Jane de McMullen',\n",
       " 'Jackie Chan',\n",
       " 'Jet Li',\n",
       " 'Margaret Thatcher-Churchill',\n",
       " 'Winston Thatcher-Churchill']"
      ]
     },
     "execution_count": 57,
     "metadata": {},
     "output_type": "execute_result"
    }
   ],
   "source": [
    "text = r\"Dustin Hoffman, Jack NiCholson, Mark Chris, Christopher Spitzmiller and Diana Quasha. \\\n",
    "        Jack and Mary Nicholson. Second Row: Mark Chris, Christopher and Diana de Quasha, \\\n",
    "        Jason and Diana de'Quasha. Patrick McMullen, Patrick and Jane McMullen. The Patrick \\\n",
    "        and Jane de McMullen. The Park with Jane de'McMullen. Jackie Chan with Jet Li. \\\n",
    "        Winston and Margaret Thatcher-Churchill\"\n",
    "#text = 'Winston and Margaret Thatcher-Churchill'\n",
    "delete_duplicate(strip_names(text))"
   ]
  },
  {
   "cell_type": "code",
   "execution_count": 324,
   "metadata": {},
   "outputs": [
    {
     "data": {
      "text/plain": [
       "['Michael Bloomberg']"
      ]
     },
     "execution_count": 324,
     "metadata": {},
     "output_type": "execute_result"
    }
   ],
   "source": [
    "test = ['Mayor Michael', 'Michael Bloomberg', 'Mayor Michael Bloomberg']\n",
    "delete_duplicate(test)"
   ]
  },
  {
   "cell_type": "markdown",
   "metadata": {},
   "source": [
    "## Question 2: sample_names\n"
   ]
  },
  {
   "cell_type": "markdown",
   "metadata": {},
   "source": [
    "Once you feel that your algorithm is working well on these captions, parse all of the captions and extract all the names mentioned.  Sort them alphabetically, by first name, and return the first hundred."
   ]
  },
  {
   "cell_type": "code",
   "execution_count": 58,
   "metadata": {},
   "outputs": [
    {
     "name": "stdout",
     "output_type": "stream",
     "text": [
      "==================\n",
      "Your score:  0.9300000000000006\n",
      "==================\n"
     ]
    }
   ],
   "source": [
    "def get_caption_names(caption):\n",
    "    names_ls = []\n",
    "    names_ls.extend(strip_names(caption))\n",
    "    names_ls = list(set(names_ls))\n",
    "    names_ls = delete_duplicate(names_ls)\n",
    "    return names_ls\n",
    "\n",
    "sample_names = []\n",
    "for caption in captions:\n",
    "    if len(caption) < 250:\n",
    "        sample_names.extend(get_caption_names(caption))\n",
    "sample_names = list(set(sample_names))\n",
    "sample_names.sort()\n",
    "sample_names\n",
    "grader.score('graph__sample_names', sample_names[:100])"
   ]
  },
  {
   "cell_type": "markdown",
   "metadata": {},
   "source": [
    "Now, run this sort of test on a few other pages.  You will probably find that other pages have a slightly different HTML structure, as well as new captions that trip up your caption parser.  But don't worry if the parser isn't perfect -- just try to get the easy cases."
   ]
  },
  {
   "cell_type": "markdown",
   "metadata": {},
   "source": [
    "## Phase Three\n"
   ]
  },
  {
   "cell_type": "markdown",
   "metadata": {},
   "source": [
    "Once you are satisfied that your caption scraper and parser are working, run this for all of the pages.  If you haven't implemented some caching of the captions, you probably want to do this first."
   ]
  },
  {
   "cell_type": "code",
   "execution_count": 48,
   "metadata": {},
   "outputs": [
    {
     "name": "stdout",
     "output_type": "stream",
     "text": [
      "CPU times: user 1min 8s, sys: 1.02 s, total: 1min 9s\n",
      "Wall time: 3min 59s\n"
     ]
    }
   ],
   "source": [
    "%%time\n",
    "# Scraping all of the pages could take 10 minutes or so.\n",
    "path = [link[0].split('http://www.newyorksocialdiary.com')[-1] for link in link_list]\n",
    "caption_ls = get_captions(path)\n",
    "# for link in link_list:\n",
    "#     path = link[0].split('http://www.newyorksocialdiary.com')[-1]\n",
    "#     caption_ls.extend(get_captions(path))\n",
    "#     print(path)\n",
    "    \n",
    "len(caption_ls)"
   ]
  },
  {
   "cell_type": "code",
   "execution_count": 50,
   "metadata": {},
   "outputs": [],
   "source": [
    "dill.dump(caption_ls, open('captions.pkd', 'wb'))"
   ]
  },
  {
   "cell_type": "markdown",
   "metadata": {},
   "source": [
    "For the remaining analysis, we think of the problem in terms of a\n",
    "[network](http://en.wikipedia.org/wiki/Computer_network) or a\n",
    "[graph](https://en.wikipedia.org/wiki/Graph_%28discrete_mathematics%29).  Any time a pair of people appear in a photo together, that is considered a link.  What we have described is more appropriately called an (undirected)\n",
    "[multigraph](http://en.wikipedia.org/wiki/Multigraph) with no self-loops but this has an obvious analog in terms of an undirected [weighted graph](http://en.wikipedia.org/wiki/Graph_%28mathematics%29#Weighted_graph).  In this problem, we will analyze the social graph of the New York social elite.  We recommend using python's [`networkx`](https://networkx.github.io/) library."
   ]
  },
  {
   "cell_type": "code",
   "execution_count": 51,
   "metadata": {},
   "outputs": [],
   "source": [
    "import itertools  # itertools.combinations may be useful\n",
    "import networkx as nx"
   ]
  },
  {
   "cell_type": "code",
   "execution_count": 93,
   "metadata": {},
   "outputs": [],
   "source": [
    "graph = nx.Graph()"
   ]
  },
  {
   "cell_type": "code",
   "execution_count": 96,
   "metadata": {},
   "outputs": [],
   "source": [
    "graph.add_edge('Bob', 'Pete')\n",
    "graph.add_edge('Pete', 'Kevin')"
   ]
  },
  {
   "cell_type": "code",
   "execution_count": 97,
   "metadata": {},
   "outputs": [
    {
     "data": {
      "text/plain": [
       "<networkx.classes.multigraph.MultiGraph at 0x7f7aee761160>"
      ]
     },
     "execution_count": 97,
     "metadata": {},
     "output_type": "execute_result"
    }
   ],
   "source": [
    "nx.MultiGraph()"
   ]
  },
  {
   "cell_type": "code",
   "execution_count": 67,
   "metadata": {},
   "outputs": [
    {
     "data": {
      "text/plain": [
       "90554"
      ]
     },
     "execution_count": 67,
     "metadata": {},
     "output_type": "execute_result"
    }
   ],
   "source": [
    "len(graph.degree())"
   ]
  },
  {
   "cell_type": "markdown",
   "metadata": {},
   "source": [
    "All in all, you should end up with over 100,000 captions and more than 110,000 names, connected in about 200,000 pairs."
   ]
  },
  {
   "cell_type": "markdown",
   "metadata": {},
   "source": [
    "## Question 3: degree\n"
   ]
  },
  {
   "cell_type": "markdown",
   "metadata": {},
   "source": [
    "The simplest question to ask is \"who is the most popular\"?  The easiest way to answer this question is to look at how many connections everyone has.  Return the top 100 people and their degree.  Remember that if an edge of the graph has weight 2, it counts for 2 in the degree.\n",
    "\n",
    "**Checkpoint:** Some aggregate stats on the solution\n",
    "\n",
    "    \"count\": 100.0\n",
    "    \"mean\": 189.92\n",
    "    \"std\": 87.8053034454\n",
    "    \"min\": 124.0\n",
    "    \"25%\": 138.0\n",
    "    \"50%\": 157.0\n",
    "    \"75%\": 195.0\n",
    "    \"max\": 666.0"
   ]
  },
  {
   "cell_type": "code",
   "execution_count": 59,
   "metadata": {},
   "outputs": [],
   "source": [
    "def create_edge(caption):\n",
    "    names_ls = get_caption_names(caption)\n",
    "    for i in range(len(names_ls)):\n",
    "        for j in range(i+1, len(names_ls)):\n",
    "            graph.add_edge(names_ls[i], names_ls[j])\n",
    "\n",
    "graph = nx.Graph()\n",
    "for caption in caption_ls:\n",
    "    create_edge(caption)"
   ]
  },
  {
   "cell_type": "code",
   "execution_count": 66,
   "metadata": {},
   "outputs": [
    {
     "name": "stdout",
     "output_type": "stream",
     "text": [
      "==================\n",
      "Your score:  0.8600000000000005\n",
      "==================\n"
     ]
    }
   ],
   "source": [
    "import heapq  \n",
    "from operator import itemgetter\n",
    "\n",
    "graph_ls = list(graph.degree())\n",
    "degree = [x for x in heapq.nlargest(100,graph_ls,key=itemgetter(1))]\n",
    "\n",
    "grader.score('graph__degree', degree)"
   ]
  },
  {
   "cell_type": "code",
   "execution_count": 68,
   "metadata": {},
   "outputs": [
    {
     "data": {
      "text/plain": [
       "[('Jean Shafiroff', 448),\n",
       " ('Patrick McMullan', 348),\n",
       " ('Mark Gilbertson', 346),\n",
       " ('Alexandra Lebenthal', 263),\n",
       " ('Gillian Miniter', 243),\n",
       " ('Geoffrey Bradfield', 223),\n",
       " ('Mario Buatta', 221),\n",
       " ('Michael Bloomberg', 217),\n",
       " ('Yaz Hernandez', 206),\n",
       " ('Eleanora Kennedy', 194),\n",
       " ('Kamie Lightburn', 191),\n",
       " ('Alina Cho', 190),\n",
       " ('Lucia Hwong Gordon', 189),\n",
       " ('Somers Farkas', 185),\n",
       " ('Andrew Saffir', 183),\n",
       " ('Allison Aston', 180),\n",
       " ('Sharon Bush', 177),\n",
       " ('Debbie Bancroft', 170),\n",
       " ('Muffie Potter Aston', 168),\n",
       " ('Karen Klopp', 163),\n",
       " ('Barbara Tober', 156),\n",
       " ('Jamee Gregory', 150),\n",
       " ('Bettina Zilkha', 148),\n",
       " ('Martha Stewart', 146),\n",
       " ('Leonard Lauder', 146),\n",
       " ('Donna Karan', 146),\n",
       " ('Daniel Boulud', 145),\n",
       " ('Amy Fine Collins', 144),\n",
       " ('Paula Zahn', 144),\n",
       " ('Deborah Norville', 141),\n",
       " ('Karen LeFrak', 141),\n",
       " ('Lydia Fenet', 139),\n",
       " ('Christopher Hyland', 139),\n",
       " ('Jennifer Creel', 137),\n",
       " ('Nicole Miller', 133),\n",
       " ('Margo Langenberg', 130),\n",
       " ('Liliana Cavendish', 130),\n",
       " ('Bonnie Comley', 128),\n",
       " ('Alec Baldwin', 128),\n",
       " ('Audrey Gruss', 127),\n",
       " ('Elizabeth Stribling', 125),\n",
       " ('Grace Meigher', 125),\n",
       " ('Michele Herbert', 121),\n",
       " ('Diana DiMenna', 121),\n",
       " ('Couri Hay', 120),\n",
       " ('Diana Taylor', 120),\n",
       " ('Rob Rich', 120),\n",
       " ('Kipton Cronkite', 119),\n",
       " ('Barbara Regna', 116),\n",
       " ('Nathalie Kaplan', 116),\n",
       " ('Liz Peek', 115),\n",
       " ('Annette Rickel', 115),\n",
       " ('Cutty McGill', 114),\n",
       " ('Evelyn Lauder', 114),\n",
       " ('Dennis Basso', 113),\n",
       " ('Martha Glass', 113),\n",
       " ('Amy Hoadley', 113),\n",
       " ('Adelina Wong Ettelson', 113),\n",
       " ('Fernanda Kellogg', 112),\n",
       " ('Olarte de Kanavos', 112),\n",
       " ('Annie Watt', 111),\n",
       " ('Felicia Taylor', 110),\n",
       " ('Fern Mallis', 109),\n",
       " ('Anka Palitz', 108),\n",
       " ('Fe Fendi', 107),\n",
       " ('Deborah Roberts', 104),\n",
       " ('Alexandra Lind Rose', 104),\n",
       " ('Pamela Fiori', 104),\n",
       " ('Susan Shin', 103),\n",
       " ('Michele Gerber Klein', 103),\n",
       " ('Carol Mack', 102),\n",
       " ('David Koch', 102),\n",
       " ('Dayssi Olarte', 101),\n",
       " ('Rosanna Scotto', 101),\n",
       " ('Beth Rudin DeWoody', 101),\n",
       " ('Allison Mignone', 101),\n",
       " ('Russell Simmons', 100),\n",
       " ('Amy McFarland', 100),\n",
       " ('Cassandra Seidenfeld', 99),\n",
       " ('Coco Kopelman', 98),\n",
       " ('Hilary Geary Ross', 98),\n",
       " ('Dawne Marie Grannum', 98),\n",
       " ('Charlotte Moss', 97),\n",
       " ('Georgina Schaeffer', 97),\n",
       " ('Chris Meigher', 96),\n",
       " ('Hoda Kotb', 96),\n",
       " ('Wendy Carduner', 95),\n",
       " ('Lisa Anastos', 95),\n",
       " ('Evelyn Tompkins', 94),\n",
       " ('Bette Midler', 94),\n",
       " ('Barbara Walters', 93),\n",
       " ('Wilbur Ross', 93),\n",
       " ('Cynthia Lufkin', 93),\n",
       " ('Alexia Hamm Ryan', 92),\n",
       " ('Ce Black', 92),\n",
       " ('Steven Stolman', 92),\n",
       " ('Prince Dimitri', 92),\n",
       " ('Margaret Russell', 91),\n",
       " ('Mary Van Pelt', 91),\n",
       " ('Amy Griffin', 91),\n",
       " ('Frederick Anderson', 91),\n",
       " ('Dori Cooperman', 90),\n",
       " ('Julie Macklowe', 90),\n",
       " ('John Demsey', 90),\n",
       " ('Zac Posen', 90),\n",
       " ('Melissa Berkelhammer', 90),\n",
       " ('Stewart Lane', 89),\n",
       " ('Consul General', 88),\n",
       " ('Roric Tobin', 88),\n",
       " ('Clare McKeon', 87),\n",
       " ('Daniel Benedict', 87),\n",
       " ('Agnes Gund', 87),\n",
       " ('Mary Davidson', 87),\n",
       " ('Linda Fargo', 87),\n",
       " ('Heather Leeds', 87),\n",
       " ('Tom Colicchio', 87),\n",
       " ('Melanie Holland', 86),\n",
       " ('Hunt Slonem', 86),\n",
       " ('Bob Colacello', 86),\n",
       " ('Karen Pearl', 86),\n",
       " ('Patricia Shiah', 85),\n",
       " ('Jamie Niven', 85),\n",
       " ('Anne Hearst McInerney', 85),\n",
       " ('Coralie Charriol Paul', 85),\n",
       " ('Claudia Overstrom', 85),\n",
       " ('Ellie Cullman', 85),\n",
       " ('Richard Johnson', 84),\n",
       " ('Chuck Scarborough', 84),\n",
       " ('Margo Catsimatidis', 84),\n",
       " ('Melissa Hawks', 83),\n",
       " ('Rachel Roy', 83),\n",
       " ('Bettina Prentice', 83),\n",
       " ('Mary Hilliard', 82),\n",
       " ('Tinsley Mortimer', 82),\n",
       " ('Angela Chen', 81),\n",
       " ('Shoshanna Gruss', 80),\n",
       " ('Janna Bullock', 80),\n",
       " ('Marcia Mishaan', 80),\n",
       " ('Michael Kors', 80),\n",
       " ('Julia Koch', 80),\n",
       " ('Lyss Stern', 80),\n",
       " ('Carolina Herrera', 80),\n",
       " ('Kelly Rutherford', 79),\n",
       " ('Myra Biblowit', 79),\n",
       " ('Medical Center', 79),\n",
       " ('Susan Magazine', 79),\n",
       " ('Herbert Pardes', 78),\n",
       " ('Suzanne Cochran', 78),\n",
       " ('Anne Keating', 78),\n",
       " ('Michael Gabriel', 78),\n",
       " ('Peter Davis', 78),\n",
       " ('Gerald Loughlin', 77),\n",
       " ('Susan Fales-Hill', 77),\n",
       " ('Peggy Siegal', 77),\n",
       " ('Adrienne Arsht', 77),\n",
       " ('Jeanne Lawrence', 77),\n",
       " ('Dorothy Lichtenstein', 77),\n",
       " ('Alfred Portale', 77),\n",
       " ('Georges Vongerichten', 77),\n",
       " ('Peter Lyden', 77),\n",
       " ('Stephanie Winston Wolkoff', 77),\n",
       " ('Mary Snow', 77),\n",
       " ('Lisa McCarthy', 76),\n",
       " ('Amy Phelan', 76),\n",
       " ('Jay McInerney', 75),\n",
       " ('Nina Griscom', 75),\n",
       " ('Zani Gugelmann', 75),\n",
       " ('Ross Bleckner', 75),\n",
       " ('Danielle Ganek', 75),\n",
       " ('Douglas Hannant', 75),\n",
       " ('Tina Brown', 75),\n",
       " ('Lizzie Tisch', 74),\n",
       " ('Clive Gillinson', 74),\n",
       " ('Gregory Long', 74),\n",
       " ('Robert Wilson', 74),\n",
       " ('Gotham Bar', 74),\n",
       " ('Hamish Bowles', 73),\n",
       " ('Brooke Shields', 73),\n",
       " ('Glenn Close', 73),\n",
       " ('Olivia Chantecaille', 73),\n",
       " ('Liz Smith', 73),\n",
       " ('Chairman Emeritus', 73),\n",
       " ('Denise Rich', 73),\n",
       " ('Fabiola Beracasa', 73),\n",
       " ('Emma Snowdon-Jones', 73),\n",
       " ('Bunny Williams', 72),\n",
       " ('Caryn Zucker', 72),\n",
       " ('Jamie Figg', 72),\n",
       " ('Richard Mishaan', 72),\n",
       " ('Deborah Royce', 71),\n",
       " ('Lisa Errico', 71),\n",
       " ('Chele Chiavacci', 71),\n",
       " ('Zibby Right', 71),\n",
       " ('Sandra McConnell', 71),\n",
       " ('Ann Rapp', 70),\n",
       " ('Katie Tozer', 70),\n",
       " ('Katie Couric', 70),\n",
       " ('Olivia Flatto', 70),\n",
       " ('Veronica Kelly', 70),\n",
       " ('Rachel Hovnanian', 70),\n",
       " ('Nobu Matsuhisa', 70),\n",
       " ('Las Vegas', 70),\n",
       " ('Ashley McDermott', 70),\n",
       " ('Sam Waterston', 70),\n",
       " ('Robin Roberts', 70),\n",
       " ('Amy Sacco', 70),\n",
       " ('Cornelia Guest', 69),\n",
       " ('Amanda Hearst', 69),\n",
       " ('Bill Cunningham', 69),\n",
       " ('Joachim Splichal', 69),\n",
       " ('Charlie Palmer', 69),\n",
       " ('Christine Schwarzman', 69),\n",
       " ('Donna Hanover', 69),\n",
       " ('Maggie Norris', 69),\n",
       " ('Christian Leone', 69),\n",
       " ('Daisy Soros', 68),\n",
       " ('Michael Kennedy', 68),\n",
       " ('Jeff Koons', 68),\n",
       " ('San Francisco', 68),\n",
       " ('Jonathan Benno', 68),\n",
       " ('Sharon Handler', 68),\n",
       " ('John Catsimatidis', 67),\n",
       " ('Cristina Cuomo', 67),\n",
       " ('Richard Capizzi', 67),\n",
       " ('Mark Gaier', 67),\n",
       " ('Marc Rosen', 67),\n",
       " ('Meredith Melling Burke', 67),\n",
       " ('Mary Alice Stephenson', 67),\n",
       " ('Cole Rumbough', 66),\n",
       " ('Leslie Heaney', 66),\n",
       " ('Jennifer Oken', 66),\n",
       " ('Tom Quick', 66),\n",
       " ('Robert Zimmerman', 66),\n",
       " ('Kristian Laliberte', 66),\n",
       " ('Francine LeFrak', 66),\n",
       " ('Antonio Prontelli', 66),\n",
       " ('Rock Center Caf', 66),\n",
       " ('Bebe Neuwirth', 66),\n",
       " ('Jessica Marinaccio', 66),\n",
       " ('Dance Company', 66),\n",
       " ('Roger Webster', 66),\n",
       " ('Michelle Smith', 65),\n",
       " ('Sylvester Miniter', 65),\n",
       " ('Donald Tober', 65),\n",
       " ('Rachel Moore', 65),\n",
       " ('Carnegie Hall', 65),\n",
       " ('Rosemarie Lieberman', 65),\n",
       " ('Peter Martins', 65),\n",
       " ('Anna Wintour', 65),\n",
       " ('Carmen Dubroc', 65),\n",
       " ('Doug Blonsky', 64),\n",
       " ('Jackie Weld Drake', 64),\n",
       " ('Robin Cofer', 64),\n",
       " ('Loreen Arbus', 64),\n",
       " ('Lauren Remington Platt', 64),\n",
       " ('Leslie Jones', 64),\n",
       " ('Glenda Bailey', 64),\n",
       " ('Jonathan Farkas', 63),\n",
       " ('Noreen Buckfire', 63),\n",
       " ('Edward Callaghan', 63),\n",
       " ('Jason Binn', 63),\n",
       " ('Reginald Van Lee', 63),\n",
       " ('Sloan Overstrom', 63),\n",
       " ('Isaac Mizrahi', 63),\n",
       " ('Thomas Sculco', 63),\n",
       " ('Barbara de Portago', 62),\n",
       " ('Michel Witmer', 62),\n",
       " ('Alex Donner', 62),\n",
       " ('Board Chair', 62),\n",
       " ('Catherine Carey', 62),\n",
       " ('Aga Khan', 62),\n",
       " ('John Wegorzewski', 62),\n",
       " ('Polly Onet', 62),\n",
       " ('Celerie Kemble', 62),\n",
       " ('Patricia Kennedy', 62),\n",
       " ('Ti Jansen', 61),\n",
       " ('Michael McCarty', 61),\n",
       " ('George Farias', 61),\n",
       " ('Leslie Stevens', 61),\n",
       " ('Melanie Wambold', 61),\n",
       " ('Lise Evans', 61),\n",
       " ('Eric Javits', 61),\n",
       " ('Bill Telepan', 61),\n",
       " ('Bloomberg', 61),\n",
       " ('David Rockefeller', 61),\n",
       " ('Donya Bommer', 61),\n",
       " ('Ann Watt', 61),\n",
       " ('Michael Cominotto', 60),\n",
       " ('Guy Robinson', 60),\n",
       " ('Anne Harrison', 60),\n",
       " ('Campion Platt', 60),\n",
       " ('Daniel Cappello', 60),\n",
       " ('Ernie Anastos', 60),\n",
       " ('Sara Ayres', 60),\n",
       " ('Roxanne Palin', 60),\n",
       " ('Tia Walker', 60),\n",
       " ('Larry Forgione', 60),\n",
       " ('Paige Hardy', 59),\n",
       " ('Cynthia Sculco', 59),\n",
       " ('Samuel Waxman', 59),\n",
       " ('Ann de Lesseps', 59),\n",
       " ('Nacho Figueras', 59),\n",
       " ('Tiffany Dubin', 59),\n",
       " ('Ken Langone', 59),\n",
       " ('Derek Blasberg', 59),\n",
       " ('Marisa Brown', 59),\n",
       " ('Stefano Tonchi', 59),\n",
       " ('Muffy Miller', 59),\n",
       " ('Adrian Benepe', 59),\n",
       " ('Darren Walker', 58),\n",
       " ('Kathleen Giordano', 58),\n",
       " ('Susan Burke', 58),\n",
       " ('Iris Dankner', 58),\n",
       " ('Sarah Jessica Parker', 58),\n",
       " ('Bonnie Pfeifer Evans', 58),\n",
       " ('Linda Wells', 58),\n",
       " ('Wendy Diamond', 58),\n",
       " ('Roy Kean', 58),\n",
       " ('Chuck Close', 58),\n",
       " ('Alan Cumming', 58),\n",
       " ('Le Cirque', 58),\n",
       " ('Fiona Rudin', 57),\n",
       " ('Angela Clofine', 57),\n",
       " ('Pat Mitchell', 57),\n",
       " ('Barbara McLaughlin', 57),\n",
       " ('Princess Yasmin Aga', 57),\n",
       " ('Tommy Hilfiger', 57),\n",
       " ('Ana Oliveira', 57),\n",
       " ('Alison Mazzola', 57),\n",
       " ('Tracy Stern', 57),\n",
       " ('Christie Brinkley', 57),\n",
       " ('Joel Klein', 57),\n",
       " ('Brooke Garber Neidich', 57),\n",
       " ('Blaine Trump', 57),\n",
       " ('Memorial Sloan-Kettering', 57),\n",
       " ('Cece Cord', 57),\n",
       " ('An American', 57),\n",
       " ('Emilia Fanjul Pfeifler', 56),\n",
       " ('Christopher Mason', 56),\n",
       " ('Event Co-Chairs', 56),\n",
       " ('Jamie Drake', 56),\n",
       " ('Julie Skarratt', 56),\n",
       " ('Miss USA', 56),\n",
       " ('Paul LeClerc', 56),\n",
       " ('Kirk Henckels', 55),\n",
       " ('Scott Currie', 55),\n",
       " ('Cabernet Sauvignon', 55),\n",
       " ('Gayle King', 55),\n",
       " ('Laura Lofaro Freeman', 55),\n",
       " ('Arlene Dahl', 55),\n",
       " ('Heather Mnuchin', 55),\n",
       " ('Cristina Greeven Cuomo', 55),\n",
       " ('Ray Kelly', 55),\n",
       " ('Elizabeth Meigher', 55),\n",
       " ('Nicholas Scoppetta', 55),\n",
       " ('Lisa Dennison', 55),\n",
       " ('Ellis Island', 55),\n",
       " ('Carlos Souza', 54),\n",
       " ('Mish Tworkowski', 54),\n",
       " ('Jill Zarin', 54),\n",
       " ('Sharon Kerr', 54),\n",
       " ('Bruce Colley', 54),\n",
       " ('Gigi Mortimer', 54),\n",
       " ('Sam Bolton', 54),\n",
       " ('Selita Ebanks', 54),\n",
       " ('Cator Sparks', 54),\n",
       " ('Jennifer Raab', 54),\n",
       " ('Jonathan Waxman', 54),\n",
       " ('Amanda Ross', 54),\n",
       " ('Philippe Lalliot', 54),\n",
       " ('Jawn Chasteen', 54),\n",
       " ('Jonelle Procope', 53),\n",
       " ('Sonja Morgan', 53),\n",
       " ('Joyce Cowin', 53),\n",
       " ('Stephanie Foster', 53),\n",
       " ('Jonathan Tisch', 53),\n",
       " ('John McEnroe', 53),\n",
       " ('Jane Pontarelli', 53),\n",
       " ('Marlene Hess', 53),\n",
       " ('Bob Chaloner', 53),\n",
       " ('Komen Greater NYC', 53),\n",
       " ('David Dinkins', 53),\n",
       " ('Susan Solomon', 53),\n",
       " ('Andrea Stark', 53),\n",
       " ('Jeffrey Lieberman', 53),\n",
       " ('Anne Ford', 53),\n",
       " ('Lady Liliana Cavendish', 53),\n",
       " ('Marcie Pantzer', 53),\n",
       " ('Harry Benson', 53),\n",
       " ('Allison Rockefeller', 53),\n",
       " ('Sara Herbert Galloway', 53),\n",
       " ('Les Lieberman', 52),\n",
       " ('Travis Acquavella', 52),\n",
       " ('Charlie Rose', 52),\n",
       " ('Byrdie Bell', 52),\n",
       " ('Jamie Tisch', 52),\n",
       " ('Mary Phipps', 52),\n",
       " ('Pamela Morgan', 52),\n",
       " ('Cornelia Bregman', 52),\n",
       " ('Darren Henault', 52),\n",
       " ('Bernadette Peters', 52),\n",
       " ('Jean Doyen', 52),\n",
       " ('Alice Tisch', 52),\n",
       " ('Beth DeWoody', 52),\n",
       " ('Susan Baker', 52),\n",
       " ('Michael', 52),\n",
       " ('Carlos Mota', 52),\n",
       " ('Adam Weinberg', 52),\n",
       " ('Patricia Duff', 52),\n",
       " ('Kate Coyne', 51),\n",
       " ('Charlotte Ronson', 51),\n",
       " ('Bronson Van Wyck', 51),\n",
       " ('Ruth Westheimer', 51),\n",
       " ('Thom Filicia', 51),\n",
       " ('Anna Safir', 51),\n",
       " ('Suzanne Clary', 51),\n",
       " ('Elaine Langone', 51),\n",
       " ('Elisa Port', 51),\n",
       " ('Marjorie Gubelmann', 51),\n",
       " ('Michael Kovner', 51),\n",
       " ('David Ludwigson', 51),\n",
       " ('Tony Manning', 51),\n",
       " ('Mariska Hargitay', 51),\n",
       " ('Mary Kathryn Navab', 51),\n",
       " ('Kettering Cancer Center', 51),\n",
       " ('Francisco Costa', 51),\n",
       " ('Julian Niccolini', 51),\n",
       " ('Susan Burden', 50),\n",
       " ('Janet Ross', 50),\n",
       " ('Barbara Taylor Bradford', 50),\n",
       " ('Angela Lansbury', 50),\n",
       " ('Al Roker', 50),\n",
       " ('Michael Boriskin', 50),\n",
       " ('Caitlin Davis', 50),\n",
       " ('Ramona Singer', 50),\n",
       " ('Richard Parsons', 50),\n",
       " ('Wendy Sarasohn', 50),\n",
       " ('Penn Egbert', 50),\n",
       " ('Richard Meier', 50),\n",
       " ('Valesca Guerrand-Hermes', 50),\n",
       " ('Christine Schott', 50),\n",
       " ('Elisabeth Saint-Amand', 50),\n",
       " ('Tony Esnault', 50),\n",
       " ('Holly Peterson', 49),\n",
       " ('Ida Liu', 49),\n",
       " ('Laura Whitman', 49),\n",
       " ('Jessye Norman', 49),\n",
       " ('Laura Forese', 49),\n",
       " ('Terrie Sultan', 49),\n",
       " ('Sarah Arison', 49),\n",
       " ('Gillian Hearst Simonds', 49),\n",
       " ('Kerry Kennedy', 49),\n",
       " ('Joella Lykouretzos', 49),\n",
       " ('Peter Stern', 49),\n",
       " ('Patricia Clarkson', 49),\n",
       " ('David Chines', 49),\n",
       " ('Aaron Sanchez', 49),\n",
       " ('William Lauder', 48),\n",
       " ('David Hyde Pierce', 48),\n",
       " ('Ann Nitze', 48),\n",
       " ('Emily Leonard', 48),\n",
       " ('Matko Tomicic', 48),\n",
       " ('Annika Connor', 48),\n",
       " ('Maureen Chilton', 48),\n",
       " ('Mike Woods', 48),\n",
       " ('Lincoln Center', 48),\n",
       " ('United States', 48),\n",
       " ('Calvin Klein', 48),\n",
       " ('Janet Boris', 48),\n",
       " ('Hilary Rhoda', 48),\n",
       " ('Kim White', 48),\n",
       " ('Lauren Bush', 48),\n",
       " ('Ann Van Ness', 47),\n",
       " ('Rick Friedberg', 47),\n",
       " ('Kate Allen', 47),\n",
       " ('Tony Ingrao', 47),\n",
       " ('Patty Raynes', 47),\n",
       " ('Ann Liguori', 47),\n",
       " ('Clo Cohen', 47),\n",
       " ('Matteo Bergamini', 47),\n",
       " ('Yesim Philip', 47),\n",
       " ('Joanne de Guardiola', 47),\n",
       " ('Alex Hitz', 47),\n",
       " ('Harold Koplewicz', 47),\n",
       " ('Shafi Roepers', 47),\n",
       " ('Reed Krakoff', 46),\n",
       " ('Randy Kemper', 46),\n",
       " ('Larry Norton', 46),\n",
       " ('Dalia Oberlander', 46),\n",
       " ('John Klopp', 46),\n",
       " ('Benefit Fund', 46),\n",
       " ('Juan Branez', 46),\n",
       " ('Whitney Fairchild', 45),\n",
       " ('Jay Diamond', 45),\n",
       " ('Vice Chairman', 45),\n",
       " ('Adrienne Vittadini', 45),\n",
       " ('Andrea Greeven Douzet', 45),\n",
       " ('John Eastman', 45),\n",
       " ('Joy Marks', 45),\n",
       " ('Mark Badgley', 45),\n",
       " ('Doyen de Montaillou', 45),\n",
       " ('Sigourney Weaver', 45),\n",
       " ('Jeff Pfeifle', 45),\n",
       " ('Jackie Harris Hochberg', 45),\n",
       " ('Perri Peltz', 45),\n",
       " ('Tony May', 45),\n",
       " ('Michael Sennott', 45),\n",
       " ('Mitzi Perdue', 45),\n",
       " ('Jacqueline Weld Drake', 45),\n",
       " ('Narciso Rodriguez', 45),\n",
       " ('Amanda Brooks', 45),\n",
       " ('Sharon Teles', 44),\n",
       " ('Camilla Barungi', 44),\n",
       " ('Tracey Huff', 44),\n",
       " ('Peter Pennoyer', 44),\n",
       " ('Nyssa Kourakos', 44),\n",
       " ('Ian Wardropper', 44),\n",
       " ('Lauren Bush Lauren', 44),\n",
       " ('Rod Gilbert', 44),\n",
       " ('Lisa Perry', 44),\n",
       " ('Samantha Yanks', 44),\n",
       " ('Simone Levinson', 44),\n",
       " ('Hillie Mahoney', 44),\n",
       " ('Karen Cohen', 44),\n",
       " ('Bill Miller', 44),\n",
       " ('Nina Davidson', 44),\n",
       " ('Yvonne Force Villareal', 44),\n",
       " ('Marcia Stein', 44),\n",
       " ('Joshua Bell', 44),\n",
       " ('Katie Lee', 44),\n",
       " ('Pamela Cohen', 44),\n",
       " ('Event Co-Chair', 44),\n",
       " ('James Andrew', 44),\n",
       " ('Kim Kardashian', 44),\n",
       " ('Arcell Cabuag', 44),\n",
       " ('Frances Hayward', 44),\n",
       " ('Gail Rachlin', 44),\n",
       " ('Jeremy Culver', 44),\n",
       " ('Marc Forgione', 44),\n",
       " ('Michael Stillman', 44),\n",
       " ('Quality Meats', 44),\n",
       " ('Ti Martin', 44),\n",
       " ('Dan Kluger', 44),\n",
       " ('Tory McPhail', 44),\n",
       " ('Gurrera Family', 44),\n",
       " ('Society Caf', 44),\n",
       " ('Ann Makovitzky', 44),\n",
       " ('David Burke Townhouse', 44),\n",
       " ('Wynn Encore', 44),\n",
       " ('Brennan Family', 44),\n",
       " ('Scott Conant', 44),\n",
       " ('Maccioni Family', 44),\n",
       " ('Filling Station', 44),\n",
       " ('Craig Hopson', 44),\n",
       " ('Marco Moreira', 44),\n",
       " ('Ben Ford', 44),\n",
       " ('Vikas Khanna', 44),\n",
       " ('Julian Alonzo', 44),\n",
       " ('Craig Koketsu', 44),\n",
       " ('Bryan Forgione', 44),\n",
       " ('Chris DeLuna', 44),\n",
       " ('Alan Stillman', 44),\n",
       " ('Arrows Restaurant', 44),\n",
       " ('Zarela Martinez', 44),\n",
       " ('Victor Chavez', 44),\n",
       " ('Zarela Catering', 44),\n",
       " ('Tony Maws', 44),\n",
       " ('Donna Soloway', 43),\n",
       " ('Dorine Gordon', 43),\n",
       " ('Alison Minton', 43),\n",
       " ('Helena Martinez', 43),\n",
       " ('Joan Hornig', 43),\n",
       " ('Robin Givens', 43),\n",
       " ('Scott Bruckner', 43),\n",
       " ('Susan Henshaw Jones', 43),\n",
       " ('Larry Silverstein', 43),\n",
       " ('Carolyn Englefield', 43),\n",
       " ('Lauren Veronis', 43),\n",
       " ('Palm Beach', 43),\n",
       " ('Emilia Fanjul', 43),\n",
       " ('Brian Williams', 43),\n",
       " ('Vera Wang', 43),\n",
       " ('Chris Mack', 43),\n",
       " ('Susan Patricof', 43),\n",
       " ('Marie Heinemann', 43),\n",
       " ('Robby Browne', 43),\n",
       " ('Richard Turley', 43),\n",
       " ('Parker Thorne', 43),\n",
       " ('Leon Root', 43),\n",
       " ('Marie Rentschler', 43),\n",
       " ('Lee Iacocca', 43),\n",
       " ('Laurie Tisch', 42),\n",
       " ('Euan Rellie', 42),\n",
       " ('Douglas Blonsky', 42),\n",
       " ('Arie Kopelman', 42),\n",
       " ('Ayesha Bulchandani-Mathrani', 42),\n",
       " ('Mariam Azarm', 42),\n",
       " ('Judy Gilbert', 42),\n",
       " ('Erica Karsch', 42),\n",
       " ('Julie Dannenberg', 42),\n",
       " ('Sara Davison', 42),\n",
       " ('Valentin Hernandez', 42),\n",
       " ('Sara Mearns', 42),\n",
       " ('Veronica Webb', 42),\n",
       " ('Meera Gandhi', 42),\n",
       " ('Joann Pailey', 42),\n",
       " ('Melissa Meister', 42),\n",
       " ('Di Petroff', 42),\n",
       " ('Merrill Curtis', 42),\n",
       " ('Rebekah McCabe', 42),\n",
       " ('Genevieve Bahrenburg', 42),\n",
       " ('Louise Mirrer', 42),\n",
       " ('Sue Chalom', 42),\n",
       " ('Joyce Brown', 42),\n",
       " ('Ivanka Trump', 42),\n",
       " ('Peter Brown', 42),\n",
       " ('Patricia Stensrud', 42),\n",
       " ('Alex Kramer', 42),\n",
       " ('Star Jones', 41),\n",
       " ('Gloria Steinem', 41),\n",
       " ('Marjorie Reed Gordon', 41),\n",
       " ('Blair Husain', 41),\n",
       " ('Mercedes Bass', 41),\n",
       " ('Jill Martin', 41),\n",
       " ('Melissa Morris', 41),\n",
       " ('Bethenny Frankel', 41),\n",
       " ('Dick Cavett', 41),\n",
       " ('Katlean de Monchy', 41),\n",
       " ('Countess LuAnn', 41),\n",
       " ('Martin Shafiroff', 41),\n",
       " ('Barbara Dixon', 41),\n",
       " ('Harry Slatkin', 41),\n",
       " ('Franck Deletrain', 41),\n",
       " ('Gabriel Rivera-Barraza', 41),\n",
       " ('Charlotte Ford', 41),\n",
       " ('Charles Cohen', 41),\n",
       " ('Caroline Dean', 41),\n",
       " ('Diana Quasha', 41),\n",
       " ('David Monn', 41),\n",
       " ('Arthur Wayne', 41),\n",
       " ('Heather Georges', 41),\n",
       " ('Jim Clark', 41),\n",
       " ('Valerie Salembier', 41),\n",
       " ('Abigail Scheuer Atema', 41),\n",
       " ('Nicolas Luchsinger', 41),\n",
       " ('Jill Roosevelt', 41),\n",
       " ('Luigi Tadini', 41),\n",
       " ('David Lauren', 41),\n",
       " ('Susan Rockefeller', 41),\n",
       " ('George Wayne', 41),\n",
       " ('Mamie Gummer', 41),\n",
       " ('Penny Grant', 40),\n",
       " ('Memorial Sloan Kettering', 40),\n",
       " ('Shabnam Henry', 40),\n",
       " ('Lynn Sherr', 40),\n",
       " ('Javier Gomez', 40),\n",
       " ('Lil Phillips', 40),\n",
       " ('Natalie Pray', 40),\n",
       " ('Karl Wellner', 40),\n",
       " ('Park Avenue', 40),\n",
       " ('David Dupuy', 40),\n",
       " ('Susan Krysiewicz', 40),\n",
       " ('Katharina Otto-Bernstein', 40),\n",
       " ('Weill Cornell Medical', 40),\n",
       " ('Jennifer Miller', 40),\n",
       " ('Mark Epley', 40),\n",
       " ('Timo Weiland', 40),\n",
       " ('Lacary Sharpe', 40),\n",
       " ('Richard Ziegelasch', 40),\n",
       " ('Susan Lucci', 40),\n",
       " ('Sydney Shuman', 40),\n",
       " ('Kimberly Guilfoyle', 40),\n",
       " ('Jill Kargman', 40),\n",
       " ('Josie Natori', 40),\n",
       " ('Dana Hammond Stubgen', 40),\n",
       " ('Iris Love', 40),\n",
       " ('Patti Kim', 40),\n",
       " ('Lucien Capehart Photography', 40),\n",
       " ('Ann Dexter-Jones', 40),\n",
       " ('Melinda Blinken', 40),\n",
       " ('Lauren Santo Domingo', 40),\n",
       " ('Nancy Corzine', 40),\n",
       " ('Donna Karen', 40),\n",
       " ('Lisa Yom', 40),\n",
       " ('Odile de Schietere', 40),\n",
       " ('Annabel Vartanian', 40),\n",
       " ('Kim Lippmann', 40),\n",
       " ('Ali Wise', 40),\n",
       " ('Cass Adelman', 39),\n",
       " ('Sirio Maccioni', 39),\n",
       " ('Ellen Levine', 39),\n",
       " ('Michele Riggi', 39),\n",
       " ('Georgia Frasch', 39),\n",
       " ('Roasted Tomato', 39),\n",
       " ('Chicken Souvlaki', 39),\n",
       " ('Prosecco Valdobbiadene Veneto', 39),\n",
       " ('Sesame Seeds', 39),\n",
       " ('Mini Jumbo Lump', 39),\n",
       " ('Florentine Quiche Tarts', 39),\n",
       " ('Chilled Gazpacho Shooters', 39),\n",
       " ('With Truffled', 39),\n",
       " ('Garlic Aioli', 39),\n",
       " ('Mangiare Veramente', 39),\n",
       " ('Fresh Mozzarella', 39),\n",
       " ('Scallop Ceviche', 39),\n",
       " ('White Truffle', 39),\n",
       " ('Rustico Prosecco', 39),\n",
       " ('Lump Crab', 39),\n",
       " ('Mango Glaze', 39),\n",
       " ('Grilled Shrimp', 39),\n",
       " ('Avocado Spoons', 39),\n",
       " ('Endive Filled With', 39),\n",
       " ('Truffled Goat Cheese', 39),\n",
       " ('Nino Franco Rustico', 39),\n",
       " ('Roasted Tomato Jam', 39),\n",
       " ('Alexander Valley', 39),\n",
       " ('Paddlefish Caviar', 39),\n",
       " ('All Beef Pigs', 39),\n",
       " ('Eat Very', 39),\n",
       " ('Pepper Vodka', 39),\n",
       " ('Palmina Pinot Grigio', 39),\n",
       " ('Eat Very Well', 39),\n",
       " ('Sicilian Aranicini', 39),\n",
       " ('Senza Concorrenza', 39),\n",
       " ('Smoked Salmon Tartar', 39),\n",
       " ('Pepper Vodka Dressing', 39),\n",
       " ('Cantata Stagionale', 39),\n",
       " ('Alessandro Procacci', 39),\n",
       " ('Mediterranean Style Chicken', 39),\n",
       " ('Alexander Valley Cabernet', 39),\n",
       " ('Seasonal Cantata', 39),\n",
       " ('Gioachino Rossini', 39),\n",
       " ('Mikhail Baryshnikov', 39),\n",
       " ('Nicole Sexton', 39),\n",
       " ('Itzhak Perlman', 39),\n",
       " ('Lisa Tamburini', 39),\n",
       " ('Tatiana Platt', 39),\n",
       " ('Paul Goldberger', 39),\n",
       " ('Nick Korniloff', 39),\n",
       " ('Christine Biddle', 39),\n",
       " ('Lucinda Ballard', 39),\n",
       " ('Meredith Vieira', 39),\n",
       " ('Robyn Joseph', 39),\n",
       " ('Miss Teen USA', 39),\n",
       " ('Gabrielle Bacon', 39),\n",
       " ('Di Ciollo', 39),\n",
       " ('Kyle DeWoody', 39),\n",
       " ('Fountain Gallery', 39),\n",
       " ('Kathy Sloane', 39),\n",
       " ('Alyssa Miller', 39),\n",
       " ('Michele Oka Doner', 39),\n",
       " ('Jacqueline Sackler', 39),\n",
       " ('Co Chair', 39),\n",
       " ('Vice Chairs', 39),\n",
       " ('Carson Kressley', 39),\n",
       " ('Anne Grauso', 39),\n",
       " ('Annie Churchill', 39),\n",
       " ('Joanne Hill', 39),\n",
       " ('Andrea Hoffman', 39),\n",
       " ('Catherine Sidamon-Eristoff', 39),\n",
       " ('Sharon Jacob', 38),\n",
       " ('Jonathan Marder', 38),\n",
       " ('David Patrick Columbia', 38),\n",
       " ('Elizabeth Pyne', 38),\n",
       " ('Emilia Saint-Amand', 38),\n",
       " ('Marcia Levine', 38),\n",
       " ('Joan Weill', 38),\n",
       " ('Lesley Schulhof', 38),\n",
       " ('Ellen Barkan', 38),\n",
       " ('Avis Richards', 38),\n",
       " ('Susan Magrino', 38),\n",
       " ('Clelia Zacharias', 38),\n",
       " ('Deborah Cogut', 38),\n",
       " ('Catherine Manno', 38),\n",
       " ('Lawrence Benenson', 38),\n",
       " ('Maria Giulia Maramotti', 38),\n",
       " ('Matthew White', 38),\n",
       " ('Deborah Krulewitch', 38),\n",
       " ('Kristen Chenoweth', 38),\n",
       " ('Ban Soon-taek', 38),\n",
       " ('Victoria Wyman', 38),\n",
       " ('Jennifer Stockman', 38),\n",
       " ('Adelina Wong', 38),\n",
       " ('Wynton Marsalis', 38),\n",
       " ('Natalie Morales', 38),\n",
       " ('Stephen Briganti', 38),\n",
       " ('Tiki Barber', 38),\n",
       " ('Susan Calhoun', 38),\n",
       " ('Joan Collins', 38),\n",
       " ('Lorenzo Martone', 38),\n",
       " ('Cassandra Seidenfeld Lyster', 38),\n",
       " ('General Manager', 38),\n",
       " ('Dylan Lauren', 38),\n",
       " ('Ben Pollinger', 38),\n",
       " ('Anisha Lakhani', 38),\n",
       " ('Historic Hudson Valley', 38),\n",
       " ('Susan Gutfreund', 37),\n",
       " ('Tamsen Fadal', 37),\n",
       " ('Marlo Thomas', 37),\n",
       " ('Cathie Black', 37),\n",
       " ('Leah Lane', 37),\n",
       " ('Peter Gregory', 37),\n",
       " ('Billy Farrell Agency', 37),\n",
       " ('Louise Kornfeld', 37),\n",
       " ('Robin Meltzer', 37),\n",
       " ('Kelly Bensimon', 37),\n",
       " ('Nicole Limbocker', 37),\n",
       " ('Amy Lau', 37),\n",
       " ('Friederike Biggs', 37),\n",
       " ('Ramy Sharp', 37),\n",
       " ('Christine Mack', 37),\n",
       " ('Kathy Hilton', 37),\n",
       " ('Chief Executive Officer', 37),\n",
       " ('Fine Arts', 37),\n",
       " ('Valerie Steele', 37),\n",
       " ('Elizabeth Belfer', 37),\n",
       " ('Elizabeth Peabody', 37),\n",
       " ('Seth Meyers', 37),\n",
       " ('Michael Barker', 37),\n",
       " ('Robert Kelly', 37),\n",
       " ('Andre Leon Talley', 37),\n",
       " ('Raymond Kelly', 37),\n",
       " ('Alexandra Kotur', 37),\n",
       " ('Whitney Wolfe', 37),\n",
       " ('Michelle Marie Heinemann', 37),\n",
       " ('Wolffer Vineyards', 37),\n",
       " ('Sandy Weill', 37),\n",
       " ('Marcy Warren', 37),\n",
       " ('Marc Jacobs', 37),\n",
       " ('Christine Quinn', 37),\n",
       " ('Peter Jay Sharp', 37),\n",
       " ('Sharp Chief', 37),\n",
       " ('Cozy Friedman', 37),\n",
       " ('Eleanor Ylvisaker', 36),\n",
       " ('Dani Stahl', 36),\n",
       " ('Warrie Price', 36),\n",
       " ('Lorna Graev', 36),\n",
       " ('Jennifer Wright', 36),\n",
       " ('Tony Bechara', 36),\n",
       " ('Eva Andersson-Dubin', 36),\n",
       " ('Darci Kistler', 36),\n",
       " ('Anki Leeds', 36),\n",
       " ('Lauren Day Roberts', 36),\n",
       " ('Michael Bruno', 36),\n",
       " ('Jo Carole', 36),\n",
       " ('Margo MacNabb', 36),\n",
       " ('Jodie Eastman', 36),\n",
       " ('Wendy Federman', 36),\n",
       " ('Drew Nieporent', 36),\n",
       " ('Vin Cipolla', 36),\n",
       " ('Vanessa Cornell', 36),\n",
       " ('Lorna Hyde Graev', 36),\n",
       " ('Fountain House', 36),\n",
       " ('Pamela Joyner', 36),\n",
       " ('Yliana Yepez', 36),\n",
       " ('Thomas Schutte', 36),\n",
       " ('Ce Cord', 36),\n",
       " ('Richard Feldman', 36),\n",
       " ('Nancy Pearson', 36),\n",
       " ('Mai Harrison', 36),\n",
       " ('Kathleen Kocatas', 36),\n",
       " ('Kelly Mallon', 36),\n",
       " ('Klaus Biesenbach', 36),\n",
       " ('Larry Gagosian', 36),\n",
       " ('Paul Wilmot', 36),\n",
       " ('Mickey Boardman', 36),\n",
       " ('Hayley Bloomingdale', 35),\n",
       " ('Denise LeFrak', 35),\n",
       " ('Wendy Moonan', 35),\n",
       " ('Bob Wright', 35),\n",
       " ('Susan Nitze', 35),\n",
       " ('Kari Tiedemann', 35),\n",
       " ('Edgar Batista', 35),\n",
       " ('Muna Rihani Al-Nasser', 35),\n",
       " ('Rita Cosby', 35),\n",
       " ('Memrie Lewis', 35),\n",
       " ('Howard Lorber', 35),\n",
       " ('Renee Steinberg', 35),\n",
       " ('Marion Waxman', 35),\n",
       " ('Ellen Scarborough', 35),\n",
       " ('Lisa Klein', 35),\n",
       " ('Georgina Bloomberg', 35),\n",
       " ('James Mischka', 35),\n",
       " ('Victor Garber', 35),\n",
       " ('Cosby George', 35),\n",
       " ('Leslie Harwood', 35),\n",
       " ('Mark Ackermann', 35),\n",
       " ('Lyn Paulsin', 35),\n",
       " ('Susan Graham', 35),\n",
       " ('Fernanda Niven', 35),\n",
       " ('Leslie Coleman', 35),\n",
       " ('Courtney Booth', 35),\n",
       " ('Edwina Sandys', 35),\n",
       " ('Harold Paull', 35),\n",
       " ('Piper Quinn', 35),\n",
       " ('Todd Slotkin', 35),\n",
       " ('Stephen Dannhauser', 35),\n",
       " ('Lorraine Bracco', 35),\n",
       " ('Carolyn Farb', 35),\n",
       " ('Gail Hilson', 35),\n",
       " ('Lisa Salzer', 35),\n",
       " ('Anne Huntington', 35),\n",
       " ('Bonnie Englebardt Lautenberg', 35),\n",
       " ('Nicola Bulgari', 35),\n",
       " ('Kate Schelter', 35),\n",
       " ('Rebecca Taylor', 35),\n",
       " ('Allison Sarofim', 35),\n",
       " ('Angelo Sosa', 35),\n",
       " ('Cedric Vongerichten', 35),\n",
       " ('Maison Joseph Drouhin', 35),\n",
       " ('Bodegas Primitivo Quiles', 35),\n",
       " ('Domaine Mittnacht Fr', 35),\n",
       " ('Gelato Vivoli', 35),\n",
       " ('Thomas Troisgros', 35),\n",
       " ('Toshio Suzuki', 35),\n",
       " ('Rio de Janeiro', 35),\n",
       " ('Ponzi Vineyards', 35),\n",
       " ('Claude Troisgros', 35),\n",
       " ('Michael Paley', 35),\n",
       " ('Santa Barbara', 35),\n",
       " ('Paso Robles', 35),\n",
       " ('Justin Winery', 35),\n",
       " ('Champagne Pierre Paillard', 35),\n",
       " ('Silvana Vivoli', 35),\n",
       " ('Perry St', 35),\n",
       " ('Bill Yosses', 35),\n",
       " ('Participating Wineries', 35),\n",
       " ('Sushi Zen', 35),\n",
       " ('Bedell Cellars', 35),\n",
       " ('Social Eatz', 35),\n",
       " ('Kerry Washington', 35),\n",
       " ('Howard Teich', 35),\n",
       " ('Ann Hohenhaus', 34),\n",
       " ('Graziano de Boni', 34),\n",
       " ('Carter Burden Center', 34),\n",
       " ('Sara Hobel', 34),\n",
       " ('Mort Zuckerman', 34),\n",
       " ('Bill Rudin', 34),\n",
       " ('Stacey Bronfman', 34),\n",
       " ('Sherrell Aston', 34),\n",
       " ('Sarah McNear', 34),\n",
       " ('Juan Montoya', 34),\n",
       " ('Milly de Cabrol', 34),\n",
       " ('Chief Operating Officer', 34),\n",
       " ('George Hornig', 34),\n",
       " ('Anne Bass', 34),\n",
       " ('Marcelo Gomes', 34),\n",
       " ('Aerin Lauder', 34),\n",
       " ('Jack Lenor Larsen', 34),\n",
       " ('Tiffany Moller', 34),\n",
       " ('Sabrina Forsythe', 34),\n",
       " ('Lucy Danziger', 34),\n",
       " ('Gilles Mendel', 34),\n",
       " ('Angel Sanchez', 34),\n",
       " ('Elizabeth Segerstrom', 34),\n",
       " ('Sharon Hoge', 34),\n",
       " ('Arielle Lenza Di', 34),\n",
       " ('Clay Floren', 34),\n",
       " ('Elie Tahari', 34),\n",
       " ('Adam Lippes', 34),\n",
       " ('Michael Barrett', 34),\n",
       " ('Kay Unger', 34),\n",
       " ('Emily Blunt', 34),\n",
       " ('Ruth Lande Shuman', 34),\n",
       " ('Edmundo Huerta', 34),\n",
       " ('Ursula Corgan', 34),\n",
       " ('Arden Wohl', 34),\n",
       " ('Suzanne Wright', 34),\n",
       " ('Lee Roy Reams', 34),\n",
       " ('Kimora Lee', 34),\n",
       " ('Iris Cantor', 34),\n",
       " ('Andrea Jung', 34),\n",
       " ('Joan Rex', 34),\n",
       " ('Annie Mae', 34),\n",
       " ('Harlem Tea', 34),\n",
       " ('Five Boro Flag', 34),\n",
       " ('Society Coffee', 34),\n",
       " ('Harlem Lanes', 34),\n",
       " ('Blue Smoke Restaurant', 34),\n",
       " ('Baton Rouge', 34),\n",
       " ('Aunt Ni Ni', 34),\n",
       " ('Drew Estates', 34),\n",
       " ('Make My Cake', 34),\n",
       " ('Amy Ruth', 34),\n",
       " ('Miss Mamie', 34),\n",
       " ('Pan Restaurant', 34),\n",
       " ('Creole Restaurant', 34),\n",
       " ('Lenox Lounge', 34),\n",
       " ('Uptown Juice Bar', 34),\n",
       " ('Vegetarian Caf', 34),\n",
       " ('Harlem Vintage', 34),\n",
       " ('My Secret', 34),\n",
       " ('Bay Uptown', 34),\n",
       " ('Sheba Tej Honey', 34),\n",
       " ('Harlem Tea Room', 34),\n",
       " ('Edible Arrangements', 34),\n",
       " ('South Beach', 34),\n",
       " ('Catering Services', 34),\n",
       " ('Sugar Hill Harlem', 34),\n",
       " ('Secret Garden Enterprises', 34)]"
      ]
     },
     "execution_count": 68,
     "metadata": {},
     "output_type": "execute_result"
    }
   ],
   "source": [
    "[x for x in heapq.nlargest(1000,graph_ls,key=itemgetter(1))]"
   ]
  },
  {
   "cell_type": "markdown",
   "metadata": {},
   "source": [
    "## Question 4: PageRank\n"
   ]
  },
  {
   "cell_type": "markdown",
   "metadata": {},
   "source": [
    "A similar way to determine popularity is to look at their\n",
    "[PageRank](http://en.wikipedia.org/wiki/PageRank).  PageRank is used for web ranking and was originally\n",
    "[patented](http://patft.uspto.gov/netacgi/nph-Parser?patentnumber=6285999) by Google and is essentially the stationary distribution of a [Markov\n",
    "chain](http://en.wikipedia.org/wiki/Markov_chain) implied by the social graph. You can implement this yourself or use the version in `networkx`\n",
    "\n",
    "Use 0.85 as the damping parameter so that there is a 15% chance of jumping to another vertex at random.\n",
    "\n",
    "**Checkpoint:** Some aggregate stats on the solution\n",
    "\n",
    "    \"count\": 100.0\n",
    "    \"mean\": 0.0001841088\n",
    "    \"std\": 0.0000758068\n",
    "    \"min\": 0.0001238355\n",
    "    \"25%\": 0.0001415028\n",
    "    \"50%\": 0.0001616183\n",
    "    \"75%\": 0.0001972663\n",
    "    \"max\": 0.0006085816"
   ]
  },
  {
   "cell_type": "code",
   "execution_count": 338,
   "metadata": {},
   "outputs": [
    {
     "name": "stdout",
     "output_type": "stream",
     "text": [
      "==================\n",
      "Your score:  0.9200000000000006\n",
      "==================\n"
     ]
    }
   ],
   "source": [
    "G = graph\n",
    "pagerank = dict(nx.pagerank(G, alpha = .85))\n",
    "pagerank = heapq.nlargest(100, pagerank.items(), key=lambda i: i[1])\n",
    "\n",
    "grader.score('graph__pagerank', pagerank)"
   ]
  },
  {
   "cell_type": "markdown",
   "metadata": {},
   "source": [
    "## Question 5: best_friends\n"
   ]
  },
  {
   "cell_type": "markdown",
   "metadata": {},
   "source": [
    "Another interesting question is who tend to co-occur with each other.  Give us the 100 edges with the highest weights.\n",
    "\n",
    "Google these people and see what their connection is.  Can we use this to detect instances of infidelity?\n",
    "\n",
    "**Checkpoint:** Some aggregate stats on the solution\n",
    "\n",
    "    \"count\": 100.0\n",
    "    \"mean\": 25.84\n",
    "    \"std\": 16.0395470855\n",
    "    \"min\": 14.0\n",
    "    \"25%\": 16.0\n",
    "    \"50%\": 19.0\n",
    "    \"75%\": 29.25\n",
    "    \"max\": 109.0"
   ]
  },
  {
   "cell_type": "code",
   "execution_count": 359,
   "metadata": {},
   "outputs": [],
   "source": [
    "def create_weighted_edge(caption, graph):\n",
    "    names_ls = get_caption_names(caption)\n",
    "    for i in range(len(names_ls)):\n",
    "        for j in range(i+1, len(names_ls)):\n",
    "            if graph.has_edge(names_ls[i], names_ls[j]):\n",
    "                graph[names_ls[i]][names_ls[j]]['weight'] += 1\n",
    "            else:\n",
    "                graph.add_edge(names_ls[i], names_ls[j], weight=1)\n",
    "\n",
    "graph = nx.Graph()\n",
    "for caption in caption_ls:\n",
    "    create_weighted_edge(caption, graph)"
   ]
  },
  {
   "cell_type": "code",
   "execution_count": 360,
   "metadata": {},
   "outputs": [
    {
     "name": "stdout",
     "output_type": "stream",
     "text": [
      "==================\n",
      "Your score:  0.8800000000000006\n",
      "==================\n"
     ]
    }
   ],
   "source": [
    "graph_ls = [(k, v['weight']) for k, v in dict(graph.edges()).items()]\n",
    "best_friends = [x for x in heapq.nlargest(100, graph_ls, key=itemgetter(1))]\n",
    "best_friends\n",
    "grader.score('graph__best_friends', best_friends)"
   ]
  },
  {
   "cell_type": "markdown",
   "metadata": {},
   "source": [
    "*Copyright &copy; 2019 The Data Incubator.  All rights reserved.*"
   ]
  }
 ],
 "metadata": {
  "kernelspec": {
   "display_name": "Python 3",
   "language": "python",
   "name": "python3"
  },
  "language_info": {
   "codemirror_mode": {
    "name": "ipython",
    "version": 3
   },
   "file_extension": ".py",
   "mimetype": "text/x-python",
   "name": "python",
   "nbconvert_exporter": "python",
   "pygments_lexer": "ipython3",
   "version": "3.6.2"
  },
  "nbclean": true
 },
 "nbformat": 4,
 "nbformat_minor": 1
}
