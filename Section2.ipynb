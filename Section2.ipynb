{
 "cells": [
  {
   "cell_type": "code",
   "execution_count": 6,
   "metadata": {
    "collapsed": true
   },
   "outputs": [],
   "source": [
    "import numpy as np\n",
    "import random"
   ]
  },
  {
   "cell_type": "code",
   "execution_count": 27,
   "metadata": {},
   "outputs": [],
   "source": [
    "class circular_road:\n",
    "    def __init__(self, N, M, T):\n",
    "        self.N = N\n",
    "        self.M = M\n",
    "        self.T = T\n",
    "        self.car_ls = list(range(M))\n",
    "        \n",
    "    def available_cars(self):\n",
    "        available_ls = []\n",
    "        for i in range(1, self.M):\n",
    "            if self.car_ls[i] - self.car_ls[i-1] > 1:\n",
    "                available_ls.append(self.car_ls[i-1])\n",
    "        if (self.car_ls[-1] != self.N - 1) or (self.car_ls[0] != 0):\n",
    "            available_ls.append(self.car_ls[-1])\n",
    "        return available_ls\n",
    "    \n",
    "    def move(self):\n",
    "        available_ls = self.available_cars()\n",
    "        rand_car = random.choice(available_ls)\n",
    "        if rand_car == self.N - 1:\n",
    "            self.car_ls = [0] + self.car_ls[:-1]\n",
    "        else:\n",
    "            rand_idx = self.car_ls.index(rand_car)\n",
    "            self.car_ls[rand_idx] += 1\n",
    "    \n",
    "    def run(self):\n",
    "        for i in range(self.T):\n",
    "            self.move()\n",
    "        return np.mean(self.car_ls), np.std(self.car_ls)"
   ]
  },
  {
   "cell_type": "code",
   "execution_count": 29,
   "metadata": {},
   "outputs": [
    {
     "name": "stdout",
     "output_type": "stream",
     "text": [
      "...0 loops have finished...\n",
      "...100000 loops have finished...\n",
      "...200000 loops have finished...\n",
      "...300000 loops have finished...\n",
      "...400000 loops have finished...\n",
      "...500000 loops have finished...\n",
      "...600000 loops have finished...\n",
      "...700000 loops have finished...\n",
      "...800000 loops have finished...\n",
      "...900000 loops have finished...\n",
      "Expected value of A is 4.280802 and standard deviation of A is 0.8091095332499797\n",
      "Expected value of S is 2.702464815767193 and standard deviation of S is 0.4937257533696197\n"
     ]
    }
   ],
   "source": [
    "n = 1000000\n",
    "# N=10, M=5, and T=20\n",
    "avg_ls = []\n",
    "std_ls = []\n",
    "for i in range(n):\n",
    "    cir_obj = circular_road(10, 5, 20)\n",
    "    avg, std= cir_obj.run()\n",
    "    avg_ls.append(avg)\n",
    "    std_ls.append(std)\n",
    "    if i % 100000 == 0:\n",
    "        print(\"...%s loops have finished...\" % i)\n",
    "print(\"Expected value of A is %s and standard deviation of A is %s\" % (np.mean(avg_ls), np.std(avg_ls)))\n",
    "print(\"Expected value of S is %s and standard deviation of S is %s\" % (np.mean(std_ls), np.std(std_ls)))"
   ]
  },
  {
   "cell_type": "code",
   "execution_count": 30,
   "metadata": {},
   "outputs": [
    {
     "name": "stdout",
     "output_type": "stream",
     "text": [
      "...0 loops have finished...\n",
      "...100000 loops have finished...\n",
      "...200000 loops have finished...\n",
      "...300000 loops have finished...\n",
      "...400000 loops have finished...\n",
      "...500000 loops have finished...\n",
      "...600000 loops have finished...\n",
      "...700000 loops have finished...\n",
      "...800000 loops have finished...\n",
      "...900000 loops have finished...\n",
      "Expected value of A is 9.240225 and standard deviation of A is 0.7629003535029985\n",
      "Expected value of S is 6.109006266517889 and standard deviation of S is 0.8314908512095489\n"
     ]
    }
   ],
   "source": [
    "# N=25, M=10, and T=50\n",
    "avg_ls = []\n",
    "std_ls = []\n",
    "for i in range(n):\n",
    "    cir_obj = circular_road(25, 10, 50)\n",
    "    avg, std= cir_obj.run()\n",
    "    avg_ls.append(avg)\n",
    "    std_ls.append(std)\n",
    "    if i % 100000 == 0:\n",
    "        print(\"...%s loops have finished...\" % i)\n",
    "print(\"Expected value of A is %s and standard deviation of A is %s\" % (np.mean(avg_ls), np.std(avg_ls)))\n",
    "print(\"Expected value of S is %s and standard deviation of S is %s\" % (np.mean(std_ls), np.std(std_ls)))"
   ]
  },
  {
   "cell_type": "code",
   "execution_count": null,
   "metadata": {
    "collapsed": true
   },
   "outputs": [],
   "source": []
  }
 ],
 "metadata": {
  "kernelspec": {
   "display_name": "Python 3",
   "language": "python",
   "name": "python3"
  },
  "language_info": {
   "codemirror_mode": {
    "name": "ipython",
    "version": 3
   },
   "file_extension": ".py",
   "mimetype": "text/x-python",
   "name": "python",
   "nbconvert_exporter": "python",
   "pygments_lexer": "ipython3",
   "version": "3.6.1"
  }
 },
 "nbformat": 4,
 "nbformat_minor": 2
}
