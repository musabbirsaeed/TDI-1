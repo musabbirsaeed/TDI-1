{
 "cells": [
  {
   "cell_type": "code",
   "execution_count": 213,
   "metadata": {
    "collapsed": true
   },
   "outputs": [],
   "source": [
    "import numpy as np\n",
    "import pandas as pd\n",
    "import random\n",
    "import statsmodels.api as sm\n",
    "import scipy.stats\n",
    "import warnings\n",
    "warnings.filterwarnings(action='ignore')"
   ]
  },
  {
   "cell_type": "code",
   "execution_count": 131,
   "metadata": {},
   "outputs": [
    {
     "data": {
      "text/html": [
       "<div>\n",
       "<style scoped>\n",
       "    .dataframe tbody tr th:only-of-type {\n",
       "        vertical-align: middle;\n",
       "    }\n",
       "\n",
       "    .dataframe tbody tr th {\n",
       "        vertical-align: top;\n",
       "    }\n",
       "\n",
       "    .dataframe thead th {\n",
       "        text-align: right;\n",
       "    }\n",
       "</style>\n",
       "<table border=\"1\" class=\"dataframe\">\n",
       "  <thead>\n",
       "    <tr style=\"text-align: right;\">\n",
       "      <th></th>\n",
       "      <th>IM_INCIDENT_KEY</th>\n",
       "      <th>FIRE_BOX</th>\n",
       "      <th>INCIDENT_TYPE_DESC</th>\n",
       "      <th>INCIDENT_DATE_TIME</th>\n",
       "      <th>ARRIVAL_DATE_TIME</th>\n",
       "      <th>UNITS_ONSCENE</th>\n",
       "      <th>LAST_UNIT_CLEARED_DATE_TIME</th>\n",
       "      <th>HIGHEST_LEVEL_DESC</th>\n",
       "      <th>TOTAL_INCIDENT_DURATION</th>\n",
       "      <th>ACTION_TAKEN1_DESC</th>\n",
       "      <th>...</th>\n",
       "      <th>ZIP_CODE</th>\n",
       "      <th>BOROUGH_DESC</th>\n",
       "      <th>FLOOR</th>\n",
       "      <th>CO_DETECTOR_PRESENT_DESC</th>\n",
       "      <th>FIRE_ORIGIN_BELOW_GRADE_FLAG</th>\n",
       "      <th>STORY_FIRE_ORIGIN_COUNT</th>\n",
       "      <th>FIRE_SPREAD_DESC</th>\n",
       "      <th>DETECTOR_PRESENCE_DESC</th>\n",
       "      <th>AES_PRESENCE_DESC</th>\n",
       "      <th>STANDPIPE_SYS_PRESENT_FLAG</th>\n",
       "    </tr>\n",
       "  </thead>\n",
       "  <tbody>\n",
       "    <tr>\n",
       "      <th>0</th>\n",
       "      <td>55672688</td>\n",
       "      <td>2147</td>\n",
       "      <td>300 - Rescue, EMS incident, other</td>\n",
       "      <td>01/01/2013 12:00:20 AM</td>\n",
       "      <td>01/01/2013 12:14:23 AM</td>\n",
       "      <td>1.0</td>\n",
       "      <td>01/01/2013 12:20:06 AM</td>\n",
       "      <td>1 - More than initial alarm, less than Signal 7-5</td>\n",
       "      <td>1186.0</td>\n",
       "      <td>00 - Action taken, other</td>\n",
       "      <td>...</td>\n",
       "      <td>10454</td>\n",
       "      <td>2 - Bronx</td>\n",
       "      <td>NaN</td>\n",
       "      <td>NaN</td>\n",
       "      <td>NaN</td>\n",
       "      <td>NaN</td>\n",
       "      <td>NaN</td>\n",
       "      <td>NaN</td>\n",
       "      <td>NaN</td>\n",
       "      <td>NaN</td>\n",
       "    </tr>\n",
       "    <tr>\n",
       "      <th>1</th>\n",
       "      <td>55672692</td>\n",
       "      <td>818</td>\n",
       "      <td>735A - Unwarranted alarm/defective condition o...</td>\n",
       "      <td>01/01/2013 12:00:37 AM</td>\n",
       "      <td>01/01/2013 12:09:03 AM</td>\n",
       "      <td>3.0</td>\n",
       "      <td>01/01/2013 12:30:06 AM</td>\n",
       "      <td>1 - More than initial alarm, less than Signal 7-5</td>\n",
       "      <td>1769.0</td>\n",
       "      <td>86 - Investigate</td>\n",
       "      <td>...</td>\n",
       "      <td>10036</td>\n",
       "      <td>1 - Manhattan</td>\n",
       "      <td>NaN</td>\n",
       "      <td>NaN</td>\n",
       "      <td>NaN</td>\n",
       "      <td>NaN</td>\n",
       "      <td>NaN</td>\n",
       "      <td>NaN</td>\n",
       "      <td>NaN</td>\n",
       "      <td>NaN</td>\n",
       "    </tr>\n",
       "    <tr>\n",
       "      <th>2</th>\n",
       "      <td>55672693</td>\n",
       "      <td>9656</td>\n",
       "      <td>300 - Rescue, EMS incident, other</td>\n",
       "      <td>01/01/2013 12:01:17 AM</td>\n",
       "      <td>01/01/2013 12:04:55 AM</td>\n",
       "      <td>1.0</td>\n",
       "      <td>01/01/2013 12:15:18 AM</td>\n",
       "      <td>1 - More than initial alarm, less than Signal 7-5</td>\n",
       "      <td>841.0</td>\n",
       "      <td>00 - Action taken, other</td>\n",
       "      <td>...</td>\n",
       "      <td>11418</td>\n",
       "      <td>5 - Queens</td>\n",
       "      <td>NaN</td>\n",
       "      <td>NaN</td>\n",
       "      <td>NaN</td>\n",
       "      <td>NaN</td>\n",
       "      <td>NaN</td>\n",
       "      <td>NaN</td>\n",
       "      <td>NaN</td>\n",
       "      <td>NaN</td>\n",
       "    </tr>\n",
       "    <tr>\n",
       "      <th>3</th>\n",
       "      <td>55672695</td>\n",
       "      <td>7412</td>\n",
       "      <td>412 - Gas leak (natural gas or LPG)</td>\n",
       "      <td>01/01/2013 12:02:32 AM</td>\n",
       "      <td>01/01/2013 12:07:48 AM</td>\n",
       "      <td>4.0</td>\n",
       "      <td>01/01/2013 12:40:11 AM</td>\n",
       "      <td>1 - More than initial alarm, less than Signal 7-5</td>\n",
       "      <td>2259.0</td>\n",
       "      <td>44 - Hazardous materials leak control &amp; contai...</td>\n",
       "      <td>...</td>\n",
       "      <td>11103</td>\n",
       "      <td>5 - Queens</td>\n",
       "      <td>1</td>\n",
       "      <td>NaN</td>\n",
       "      <td>NaN</td>\n",
       "      <td>NaN</td>\n",
       "      <td>NaN</td>\n",
       "      <td>NaN</td>\n",
       "      <td>NaN</td>\n",
       "      <td>NaN</td>\n",
       "    </tr>\n",
       "    <tr>\n",
       "      <th>4</th>\n",
       "      <td>55672697</td>\n",
       "      <td>4019</td>\n",
       "      <td>735A - Unwarranted alarm/defective condition o...</td>\n",
       "      <td>01/01/2013 12:01:49 AM</td>\n",
       "      <td>01/01/2013 12:06:27 AM</td>\n",
       "      <td>6.0</td>\n",
       "      <td>01/01/2013 12:24:56 AM</td>\n",
       "      <td>1 - More than initial alarm, less than Signal 7-5</td>\n",
       "      <td>1387.0</td>\n",
       "      <td>86 - Investigate</td>\n",
       "      <td>...</td>\n",
       "      <td>11385</td>\n",
       "      <td>5 - Queens</td>\n",
       "      <td>NaN</td>\n",
       "      <td>NaN</td>\n",
       "      <td>NaN</td>\n",
       "      <td>NaN</td>\n",
       "      <td>NaN</td>\n",
       "      <td>NaN</td>\n",
       "      <td>NaN</td>\n",
       "      <td>NaN</td>\n",
       "    </tr>\n",
       "  </tbody>\n",
       "</table>\n",
       "<p>5 rows × 24 columns</p>\n",
       "</div>"
      ],
      "text/plain": [
       "   IM_INCIDENT_KEY FIRE_BOX  \\\n",
       "0         55672688     2147   \n",
       "1         55672692      818   \n",
       "2         55672693     9656   \n",
       "3         55672695     7412   \n",
       "4         55672697     4019   \n",
       "\n",
       "                                  INCIDENT_TYPE_DESC      INCIDENT_DATE_TIME  \\\n",
       "0                  300 - Rescue, EMS incident, other  01/01/2013 12:00:20 AM   \n",
       "1  735A - Unwarranted alarm/defective condition o...  01/01/2013 12:00:37 AM   \n",
       "2                  300 - Rescue, EMS incident, other  01/01/2013 12:01:17 AM   \n",
       "3                412 - Gas leak (natural gas or LPG)  01/01/2013 12:02:32 AM   \n",
       "4  735A - Unwarranted alarm/defective condition o...  01/01/2013 12:01:49 AM   \n",
       "\n",
       "        ARRIVAL_DATE_TIME  UNITS_ONSCENE LAST_UNIT_CLEARED_DATE_TIME  \\\n",
       "0  01/01/2013 12:14:23 AM            1.0      01/01/2013 12:20:06 AM   \n",
       "1  01/01/2013 12:09:03 AM            3.0      01/01/2013 12:30:06 AM   \n",
       "2  01/01/2013 12:04:55 AM            1.0      01/01/2013 12:15:18 AM   \n",
       "3  01/01/2013 12:07:48 AM            4.0      01/01/2013 12:40:11 AM   \n",
       "4  01/01/2013 12:06:27 AM            6.0      01/01/2013 12:24:56 AM   \n",
       "\n",
       "                                  HIGHEST_LEVEL_DESC  TOTAL_INCIDENT_DURATION  \\\n",
       "0  1 - More than initial alarm, less than Signal 7-5                   1186.0   \n",
       "1  1 - More than initial alarm, less than Signal 7-5                   1769.0   \n",
       "2  1 - More than initial alarm, less than Signal 7-5                    841.0   \n",
       "3  1 - More than initial alarm, less than Signal 7-5                   2259.0   \n",
       "4  1 - More than initial alarm, less than Signal 7-5                   1387.0   \n",
       "\n",
       "                                  ACTION_TAKEN1_DESC  \\\n",
       "0                           00 - Action taken, other   \n",
       "1                                   86 - Investigate   \n",
       "2                           00 - Action taken, other   \n",
       "3  44 - Hazardous materials leak control & contai...   \n",
       "4                                   86 - Investigate   \n",
       "\n",
       "              ...             ZIP_CODE   BOROUGH_DESC FLOOR  \\\n",
       "0             ...                10454      2 - Bronx   NaN   \n",
       "1             ...                10036  1 - Manhattan   NaN   \n",
       "2             ...                11418     5 - Queens   NaN   \n",
       "3             ...                11103     5 - Queens     1   \n",
       "4             ...                11385     5 - Queens   NaN   \n",
       "\n",
       "  CO_DETECTOR_PRESENT_DESC FIRE_ORIGIN_BELOW_GRADE_FLAG  \\\n",
       "0                      NaN                          NaN   \n",
       "1                      NaN                          NaN   \n",
       "2                      NaN                          NaN   \n",
       "3                      NaN                          NaN   \n",
       "4                      NaN                          NaN   \n",
       "\n",
       "  STORY_FIRE_ORIGIN_COUNT FIRE_SPREAD_DESC DETECTOR_PRESENCE_DESC  \\\n",
       "0                     NaN              NaN                    NaN   \n",
       "1                     NaN              NaN                    NaN   \n",
       "2                     NaN              NaN                    NaN   \n",
       "3                     NaN              NaN                    NaN   \n",
       "4                     NaN              NaN                    NaN   \n",
       "\n",
       "   AES_PRESENCE_DESC  STANDPIPE_SYS_PRESENT_FLAG  \n",
       "0                NaN                         NaN  \n",
       "1                NaN                         NaN  \n",
       "2                NaN                         NaN  \n",
       "3                NaN                         NaN  \n",
       "4                NaN                         NaN  \n",
       "\n",
       "[5 rows x 24 columns]"
      ]
     },
     "execution_count": 131,
     "metadata": {},
     "output_type": "execute_result"
    }
   ],
   "source": [
    "data = pd.read_csv(\"Incidents_Responded_to_by_Fire_Companies.csv\", na_values='nan')\n",
    "data.head()"
   ]
  },
  {
   "cell_type": "code",
   "execution_count": 9,
   "metadata": {},
   "outputs": [
    {
     "data": {
      "text/plain": [
       "0.3614828304238471"
      ]
     },
     "execution_count": 9,
     "metadata": {},
     "output_type": "execute_result"
    }
   ],
   "source": [
    "# most common type\n",
    "type_count = data['INCIDENT_TYPE_DESC'].value_counts()\n",
    "type_count[0] / sum(type_count)"
   ]
  },
  {
   "cell_type": "code",
   "execution_count": 12,
   "metadata": {},
   "outputs": [
    {
     "data": {
      "text/plain": [
       "2.7597595139775324"
      ]
     },
     "execution_count": 12,
     "metadata": {},
     "output_type": "execute_result"
    }
   ],
   "source": [
    "# ratio of average units on scene\n",
    "avg_onscene = data.groupby('INCIDENT_TYPE_DESC').mean()['UNITS_ONSCENE']\n",
    "avg_onscene['111 - Building fire'] / avg_onscene['651 - Smoke scare, odor of smoke']"
   ]
  },
  {
   "cell_type": "code",
   "execution_count": 16,
   "metadata": {},
   "outputs": [
    {
     "data": {
      "text/plain": [
       "1.6243819471953407"
      ]
     },
     "execution_count": 16,
     "metadata": {},
     "output_type": "execute_result"
    }
   ],
   "source": [
    "# ratio of false call rate\n",
    "fc_count = data[data['INCIDENT_TYPE_DESC']=='710 - Malicious, mischievous false call, other'].groupby('BOROUGH_DESC').size()\n",
    "borough_count = data.groupby('BOROUGH_DESC').size()\n",
    "fc_count = fc_count / borough_count\n",
    "fc_count['3 - Staten Island'] / fc_count['1 - Manhattan']"
   ]
  },
  {
   "cell_type": "code",
   "execution_count": 155,
   "metadata": {},
   "outputs": [
    {
     "data": {
      "text/plain": [
       "4.15"
      ]
     },
     "execution_count": 155,
     "metadata": {},
     "output_type": "execute_result"
    }
   ],
   "source": [
    "# third quantitle of minutes arrival\n",
    "data['INCIDENT_DATE_TIME'] = pd.to_datetime(data.loc[:, 'INCIDENT_DATE_TIME'], format=\"%m/%d/%Y %I:%M:%S %p\")\n",
    "data['ARRIVAL_DATE_TIME'] = pd.to_datetime(data.loc[:, 'ARRIVAL_DATE_TIME'], format=\"%m/%d/%Y %I:%M:%S %p\")\n",
    "time_df = data[data['INCIDENT_TYPE_DESC']=='111 - Building fire']['ARRIVAL_DATE_TIME'] - data[data['INCIDENT_TYPE_DESC']=='111 - Building fire']['INCIDENT_DATE_TIME']\n",
    "time_df.quantile(0.75).seconds / 60"
   ]
  },
  {
   "cell_type": "code",
   "execution_count": 81,
   "metadata": {},
   "outputs": [
    {
     "data": {
      "text/plain": [
       "0.050846824501505385"
      ]
     },
     "execution_count": 81,
     "metadata": {},
     "output_type": "execute_result"
    }
   ],
   "source": [
    "hour_func = lambda df: df.groupby(df['INCIDENT_DATE_TIME'].dt.hour).size()\n",
    "cook_df = hour_func(data[data['INCIDENT_TYPE_DESC'] == '113 - Cooking fire, confined to container']) / hour_func(data)\n",
    "cook_df.max()"
   ]
  },
  {
   "cell_type": "code",
   "execution_count": 199,
   "metadata": {},
   "outputs": [
    {
     "data": {
      "text/plain": [
       "0.8834755463590017"
      ]
     },
     "execution_count": 199,
     "metadata": {},
     "output_type": "execute_result"
    }
   ],
   "source": [
    "# residents and incidents correlation\n",
    "census_df = pd.read_csv(\"2010+Census+Population+By+Zipcode+(ZCTA).csv\", index_col=0)\n",
    "data['ZIP_CODE'] = pd.to_numeric(data['ZIP_CODE'].fillna(0).apply(lambda x: str(x).split('-')[0])).astype('int64')\n",
    "incident_df = data[data['INCIDENT_TYPE_DESC'] == '111 - Building fire'].groupby('ZIP_CODE').size()\n",
    "join_df = pd.merge(pd.DataFrame(incident_df), census_df, how='inner', left_index=True, right_index=True)\n",
    "res = sm.OLS(join_df.iloc[:, 0], join_df.iloc[:, 1]).fit()\n",
    "res.rsquared"
   ]
  },
  {
   "cell_type": "code",
   "execution_count": 208,
   "metadata": {},
   "outputs": [
    {
     "data": {
      "text/plain": [
       "0.33083042838924376"
      ]
     },
     "execution_count": 208,
     "metadata": {},
     "output_type": "execute_result"
    }
   ],
   "source": [
    "# proportion of co detector given incident duration\n",
    "co_df = data.dropna(subset=['CO_DETECTOR_PRESENT_DESC']).copy()\n",
    "co_df['TOTAL_INCIDENT_DURATION'] = co_df['TOTAL_INCIDENT_DURATION'] / 60\n",
    "bin_group = pd.cut(co_df['TOTAL_INCIDENT_DURATION'], bins=range(20, 80, 10), include_lowest=True)\n",
    "co_count = co_df.groupby([bin_group, co_df['CO_DETECTOR_PRESENT_DESC']]).size()\n",
    "co_count = co_count.unstack()\n",
    "co_count = co_count['No'] / co_count['Yes']\n",
    "X = sm.add_constant(np.arange(25, 75, 10))\n",
    "co_res = sm.OLS(co_count.values, X).fit()\n",
    "co_res.params[0] + co_res.params[1] * 39"
   ]
  },
  {
   "cell_type": "code",
   "execution_count": 214,
   "metadata": {},
   "outputs": [
    {
     "data": {
      "text/plain": [
       "1169.1529727007567"
      ]
     },
     "execution_count": 214,
     "metadata": {},
     "output_type": "execute_result"
    }
   ],
   "source": [
    "# chi-square test\n",
    "co_df['GREATER_THAN_60'] = co_df['TOTAL_INCIDENT_DURATION'].apply(lambda x: 1 if x>=60 else 0)\n",
    "chi_count = co_df.groupby([co_df['GREATER_THAN_60'], co_df['CO_DETECTOR_PRESENT_DESC']]).size()\n",
    "chi_count = chi_count.unstack()\n",
    "chi2, p, ddof, expected = scipy.stats.chi2_contingency(chi_count)\n",
    "chi2"
   ]
  },
  {
   "cell_type": "code",
   "execution_count": null,
   "metadata": {
    "collapsed": true
   },
   "outputs": [],
   "source": []
  }
 ],
 "metadata": {
  "kernelspec": {
   "display_name": "Python 3",
   "language": "python",
   "name": "python3"
  },
  "language_info": {
   "codemirror_mode": {
    "name": "ipython",
    "version": 3
   },
   "file_extension": ".py",
   "mimetype": "text/x-python",
   "name": "python",
   "nbconvert_exporter": "python",
   "pygments_lexer": "ipython3",
   "version": "3.6.1"
  }
 },
 "nbformat": 4,
 "nbformat_minor": 2
}
